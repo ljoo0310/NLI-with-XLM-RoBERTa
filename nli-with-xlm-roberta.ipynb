{
 "cells": [
  {
   "cell_type": "markdown",
   "id": "capable-stadium",
   "metadata": {
    "papermill": {
     "duration": 0.024075,
     "end_time": "2021-04-18T23:50:15.751581",
     "exception": false,
     "start_time": "2021-04-18T23:50:15.727506",
     "status": "completed"
    },
    "tags": []
   },
   "source": [
    "# NLI with XLM-RoBERTa \n",
    "This Kaggle kernel is a submission for the \"Contradictory, My Dear Watson\" competition. The goal is to create an NLI (Natural Language Inferencing) model that, given a premise and a corresponding hypothesis, can determine whether the relationship between the two is an entailment, is neutral, or is a contradiction. We tackle this task by implementing a Hugging Face transformer, **XLM-RoBERTa**, with some other data handling techniques.\n",
    "\n",
    "이 Kaggle kernel은 \"Contradictory, My Dear Watson\" 대회를 위해 제작되었습니다. 이 대회의 목적은 전제와 가설 문장 각 하나씩을 두고 둘의 관계가 수반되는지, 중립적인지, 아니면 상반되는지를 분류하는 NLI (Natural Language Inferencing) 모델을 만드는 것입니다. 이를 위해 Hugging Face의 transformer 중 하나인 **XLM-RoBERTa**와 다른 데이터처리 기법들을 활용합니다."
   ]
  },
  {
   "cell_type": "markdown",
   "id": "tested-hughes",
   "metadata": {
    "papermill": {
     "duration": 0.022451,
     "end_time": "2021-04-18T23:50:15.796882",
     "exception": false,
     "start_time": "2021-04-18T23:50:15.774431",
     "status": "completed"
    },
    "tags": []
   },
   "source": [
    "# Kernel Setup\n",
    "## Imports"
   ]
  },
  {
   "cell_type": "code",
   "execution_count": 1,
   "id": "iraqi-theater",
   "metadata": {
    "execution": {
     "iopub.execute_input": "2021-04-18T23:50:15.851672Z",
     "iopub.status.busy": "2021-04-18T23:50:15.851027Z",
     "iopub.status.idle": "2021-04-18T23:50:37.059250Z",
     "shell.execute_reply": "2021-04-18T23:50:37.058520Z"
    },
    "papermill": {
     "duration": 21.240065,
     "end_time": "2021-04-18T23:50:37.059475",
     "exception": false,
     "start_time": "2021-04-18T23:50:15.819410",
     "status": "completed"
    },
    "tags": []
   },
   "outputs": [
    {
     "name": "stdout",
     "output_type": "stream",
     "text": [
      "Collecting nlpaug\r\n",
      "  Downloading nlpaug-1.1.3-py3-none-any.whl (394 kB)\r\n",
      "\u001b[K     |████████████████████████████████| 394 kB 2.9 MB/s \r\n",
      "\u001b[?25hInstalling collected packages: nlpaug\r\n",
      "Successfully installed nlpaug-1.1.3\r\n"
     ]
    }
   ],
   "source": [
    "import numpy as np\n",
    "import pandas as pd\n",
    "import os\n",
    "import tensorflow as tf\n",
    "from sklearn.model_selection import train_test_split\n",
    "!pip install nlpaug\n",
    "import nlpaug.augmenter.word as naw\n",
    "from tqdm import tqdm\n",
    "from transformers import XLMRobertaTokenizer, TFXLMRobertaModel\n",
    "import matplotlib.pyplot as plt\n",
    "import plotly.express as px"
   ]
  },
  {
   "cell_type": "markdown",
   "id": "atomic-beginning",
   "metadata": {
    "papermill": {
     "duration": 0.0243,
     "end_time": "2021-04-18T23:50:37.111596",
     "exception": false,
     "start_time": "2021-04-18T23:50:37.087296",
     "status": "completed"
    },
    "tags": []
   },
   "source": [
    "## Setup TPU\n",
    "We utilize the TPU to accelerate model training.\n",
    "\n",
    "더 빠른 모델 훈련을 위해 TPU를 사용합니다."
   ]
  },
  {
   "cell_type": "code",
   "execution_count": 2,
   "id": "adequate-injection",
   "metadata": {
    "execution": {
     "iopub.execute_input": "2021-04-18T23:50:37.230898Z",
     "iopub.status.busy": "2021-04-18T23:50:37.173084Z",
     "iopub.status.idle": "2021-04-18T23:50:43.163483Z",
     "shell.execute_reply": "2021-04-18T23:50:43.164494Z"
    },
    "papermill": {
     "duration": 6.027686,
     "end_time": "2021-04-18T23:50:43.164714",
     "exception": false,
     "start_time": "2021-04-18T23:50:37.137028",
     "status": "completed"
    },
    "tags": []
   },
   "outputs": [
    {
     "name": "stdout",
     "output_type": "stream",
     "text": [
      "Running on TPU  grpc://10.0.0.2:8470\n",
      "REPLICAS: 8\n"
     ]
    }
   ],
   "source": [
    "try: # running on TPU\n",
    "    tpu = tf.distribute.cluster_resolver.TPUClusterResolver()\n",
    "    tf.config.experimental_connect_to_cluster(tpu)\n",
    "    tf.tpu.experimental.initialize_tpu_system(tpu)\n",
    "    strategy = tf.distribute.experimental.TPUStrategy(tpu)\n",
    "    print('Running on TPU ', tpu.master())\n",
    "except ValueError: # running on GPU/CPU\n",
    "    print('Not running on TPU')\n",
    "    strategy = tf.distribute.get_strategy()\n",
    "print(\"REPLICAS:\", strategy.num_replicas_in_sync)"
   ]
  },
  {
   "cell_type": "markdown",
   "id": "informational-louisville",
   "metadata": {
    "papermill": {
     "duration": 0.024943,
     "end_time": "2021-04-18T23:50:43.215464",
     "exception": false,
     "start_time": "2021-04-18T23:50:43.190521",
     "status": "completed"
    },
    "tags": []
   },
   "source": [
    "## Load Data\n",
    "We load and check the given data.\n",
    "\n",
    "입력 데이터를 읽어들이고 확인해봅니다."
   ]
  },
  {
   "cell_type": "code",
   "execution_count": 3,
   "id": "ahead-tourist",
   "metadata": {
    "execution": {
     "iopub.execute_input": "2021-04-18T23:50:43.272510Z",
     "iopub.status.busy": "2021-04-18T23:50:43.271749Z",
     "iopub.status.idle": "2021-04-18T23:50:43.542185Z",
     "shell.execute_reply": "2021-04-18T23:50:43.541503Z"
    },
    "papermill": {
     "duration": 0.301812,
     "end_time": "2021-04-18T23:50:43.542330",
     "exception": false,
     "start_time": "2021-04-18T23:50:43.240518",
     "status": "completed"
    },
    "tags": []
   },
   "outputs": [
    {
     "name": "stdout",
     "output_type": "stream",
     "text": [
      "/kaggle/input/contradictory-my-dear-watson/sample_submission.csv\n",
      "/kaggle/input/contradictory-my-dear-watson/train.csv\n",
      "/kaggle/input/contradictory-my-dear-watson/test.csv\n"
     ]
    },
    {
     "data": {
      "text/html": [
       "<div>\n",
       "<style scoped>\n",
       "    .dataframe tbody tr th:only-of-type {\n",
       "        vertical-align: middle;\n",
       "    }\n",
       "\n",
       "    .dataframe tbody tr th {\n",
       "        vertical-align: top;\n",
       "    }\n",
       "\n",
       "    .dataframe thead th {\n",
       "        text-align: right;\n",
       "    }\n",
       "</style>\n",
       "<table border=\"1\" class=\"dataframe\">\n",
       "  <thead>\n",
       "    <tr style=\"text-align: right;\">\n",
       "      <th></th>\n",
       "      <th>id</th>\n",
       "      <th>premise</th>\n",
       "      <th>hypothesis</th>\n",
       "      <th>lang_abv</th>\n",
       "      <th>language</th>\n",
       "      <th>label</th>\n",
       "    </tr>\n",
       "  </thead>\n",
       "  <tbody>\n",
       "    <tr>\n",
       "      <th>0</th>\n",
       "      <td>5130fd2cb5</td>\n",
       "      <td>and these comments were considered in formulat...</td>\n",
       "      <td>The rules developed in the interim were put to...</td>\n",
       "      <td>en</td>\n",
       "      <td>English</td>\n",
       "      <td>0</td>\n",
       "    </tr>\n",
       "    <tr>\n",
       "      <th>1</th>\n",
       "      <td>5b72532a0b</td>\n",
       "      <td>These are issues that we wrestle with in pract...</td>\n",
       "      <td>Practice groups are not permitted to work on t...</td>\n",
       "      <td>en</td>\n",
       "      <td>English</td>\n",
       "      <td>2</td>\n",
       "    </tr>\n",
       "    <tr>\n",
       "      <th>2</th>\n",
       "      <td>3931fbe82a</td>\n",
       "      <td>Des petites choses comme celles-là font une di...</td>\n",
       "      <td>J'essayais d'accomplir quelque chose.</td>\n",
       "      <td>fr</td>\n",
       "      <td>French</td>\n",
       "      <td>0</td>\n",
       "    </tr>\n",
       "    <tr>\n",
       "      <th>3</th>\n",
       "      <td>5622f0c60b</td>\n",
       "      <td>you know they can't really defend themselves l...</td>\n",
       "      <td>They can't defend themselves because of their ...</td>\n",
       "      <td>en</td>\n",
       "      <td>English</td>\n",
       "      <td>0</td>\n",
       "    </tr>\n",
       "    <tr>\n",
       "      <th>4</th>\n",
       "      <td>86aaa48b45</td>\n",
       "      <td>ในการเล่นบทบาทสมมุติก็เช่นกัน โอกาสที่จะได้แสด...</td>\n",
       "      <td>เด็กสามารถเห็นได้ว่าชาติพันธุ์แตกต่างกันอย่างไร</td>\n",
       "      <td>th</td>\n",
       "      <td>Thai</td>\n",
       "      <td>1</td>\n",
       "    </tr>\n",
       "  </tbody>\n",
       "</table>\n",
       "</div>"
      ],
      "text/plain": [
       "           id                                            premise  \\\n",
       "0  5130fd2cb5  and these comments were considered in formulat...   \n",
       "1  5b72532a0b  These are issues that we wrestle with in pract...   \n",
       "2  3931fbe82a  Des petites choses comme celles-là font une di...   \n",
       "3  5622f0c60b  you know they can't really defend themselves l...   \n",
       "4  86aaa48b45  ในการเล่นบทบาทสมมุติก็เช่นกัน โอกาสที่จะได้แสด...   \n",
       "\n",
       "                                          hypothesis lang_abv language  label  \n",
       "0  The rules developed in the interim were put to...       en  English      0  \n",
       "1  Practice groups are not permitted to work on t...       en  English      2  \n",
       "2              J'essayais d'accomplir quelque chose.       fr   French      0  \n",
       "3  They can't defend themselves because of their ...       en  English      0  \n",
       "4    เด็กสามารถเห็นได้ว่าชาติพันธุ์แตกต่างกันอย่างไร       th     Thai      1  "
      ]
     },
     "execution_count": 3,
     "metadata": {},
     "output_type": "execute_result"
    }
   ],
   "source": [
    "for dirname, _, filenames in os.walk('/kaggle/input'):\n",
    "    for filename in filenames:\n",
    "        print(os.path.join(dirname, filename))\n",
    "\n",
    "train_df = pd.read_csv('../input/contradictory-my-dear-watson/train.csv')\n",
    "test_df = pd.read_csv('../input/contradictory-my-dear-watson/test.csv')\n",
    "submission_df = pd.read_csv('../input/contradictory-my-dear-watson/sample_submission.csv')\n",
    "train_df.head()"
   ]
  },
  {
   "cell_type": "code",
   "execution_count": 4,
   "id": "english-cargo",
   "metadata": {
    "execution": {
     "iopub.execute_input": "2021-04-18T23:50:43.607830Z",
     "iopub.status.busy": "2021-04-18T23:50:43.606804Z",
     "iopub.status.idle": "2021-04-18T23:50:43.611322Z",
     "shell.execute_reply": "2021-04-18T23:50:43.610786Z"
    },
    "papermill": {
     "duration": 0.042754,
     "end_time": "2021-04-18T23:50:43.611522",
     "exception": false,
     "start_time": "2021-04-18T23:50:43.568768",
     "status": "completed"
    },
    "tags": []
   },
   "outputs": [
    {
     "data": {
      "text/html": [
       "<div>\n",
       "<style scoped>\n",
       "    .dataframe tbody tr th:only-of-type {\n",
       "        vertical-align: middle;\n",
       "    }\n",
       "\n",
       "    .dataframe tbody tr th {\n",
       "        vertical-align: top;\n",
       "    }\n",
       "\n",
       "    .dataframe thead th {\n",
       "        text-align: right;\n",
       "    }\n",
       "</style>\n",
       "<table border=\"1\" class=\"dataframe\">\n",
       "  <thead>\n",
       "    <tr style=\"text-align: right;\">\n",
       "      <th></th>\n",
       "      <th>id</th>\n",
       "      <th>premise</th>\n",
       "      <th>hypothesis</th>\n",
       "      <th>lang_abv</th>\n",
       "      <th>language</th>\n",
       "    </tr>\n",
       "  </thead>\n",
       "  <tbody>\n",
       "    <tr>\n",
       "      <th>0</th>\n",
       "      <td>c6d58c3f69</td>\n",
       "      <td>بکس، کیسی، راہیل، یسعیاہ، کیلی، کیلی، اور کولم...</td>\n",
       "      <td>کیسی کے لئے کوئی یادگار نہیں ہوگا, کولمین ہائی...</td>\n",
       "      <td>ur</td>\n",
       "      <td>Urdu</td>\n",
       "    </tr>\n",
       "    <tr>\n",
       "      <th>1</th>\n",
       "      <td>cefcc82292</td>\n",
       "      <td>هذا هو ما تم نصحنا به.</td>\n",
       "      <td>عندما يتم إخبارهم بما يجب عليهم فعله ، فشلت ال...</td>\n",
       "      <td>ar</td>\n",
       "      <td>Arabic</td>\n",
       "    </tr>\n",
       "    <tr>\n",
       "      <th>2</th>\n",
       "      <td>e98005252c</td>\n",
       "      <td>et cela est en grande partie dû au fait que le...</td>\n",
       "      <td>Les mères se droguent.</td>\n",
       "      <td>fr</td>\n",
       "      <td>French</td>\n",
       "    </tr>\n",
       "    <tr>\n",
       "      <th>3</th>\n",
       "      <td>58518c10ba</td>\n",
       "      <td>与城市及其他公民及社区组织代表就IMA的艺术发展进行对话&amp;amp</td>\n",
       "      <td>IMA与其他组织合作，因为它们都依靠共享资金。</td>\n",
       "      <td>zh</td>\n",
       "      <td>Chinese</td>\n",
       "    </tr>\n",
       "    <tr>\n",
       "      <th>4</th>\n",
       "      <td>c32b0d16df</td>\n",
       "      <td>Она все еще была там.</td>\n",
       "      <td>Мы думали, что она ушла, однако, она осталась.</td>\n",
       "      <td>ru</td>\n",
       "      <td>Russian</td>\n",
       "    </tr>\n",
       "  </tbody>\n",
       "</table>\n",
       "</div>"
      ],
      "text/plain": [
       "           id                                            premise  \\\n",
       "0  c6d58c3f69  بکس، کیسی، راہیل، یسعیاہ، کیلی، کیلی، اور کولم...   \n",
       "1  cefcc82292                             هذا هو ما تم نصحنا به.   \n",
       "2  e98005252c  et cela est en grande partie dû au fait que le...   \n",
       "3  58518c10ba                   与城市及其他公民及社区组织代表就IMA的艺术发展进行对话&amp   \n",
       "4  c32b0d16df                              Она все еще была там.   \n",
       "\n",
       "                                          hypothesis lang_abv language  \n",
       "0  کیسی کے لئے کوئی یادگار نہیں ہوگا, کولمین ہائی...       ur     Urdu  \n",
       "1  عندما يتم إخبارهم بما يجب عليهم فعله ، فشلت ال...       ar   Arabic  \n",
       "2                             Les mères se droguent.       fr   French  \n",
       "3                            IMA与其他组织合作，因为它们都依靠共享资金。       zh  Chinese  \n",
       "4     Мы думали, что она ушла, однако, она осталась.       ru  Russian  "
      ]
     },
     "execution_count": 4,
     "metadata": {},
     "output_type": "execute_result"
    }
   ],
   "source": [
    "test_df.head()"
   ]
  },
  {
   "cell_type": "code",
   "execution_count": 5,
   "id": "assumed-flood",
   "metadata": {
    "execution": {
     "iopub.execute_input": "2021-04-18T23:50:43.670075Z",
     "iopub.status.busy": "2021-04-18T23:50:43.669396Z",
     "iopub.status.idle": "2021-04-18T23:50:43.678791Z",
     "shell.execute_reply": "2021-04-18T23:50:43.679307Z"
    },
    "papermill": {
     "duration": 0.040309,
     "end_time": "2021-04-18T23:50:43.679480",
     "exception": false,
     "start_time": "2021-04-18T23:50:43.639171",
     "status": "completed"
    },
    "tags": []
   },
   "outputs": [
    {
     "data": {
      "text/html": [
       "<div>\n",
       "<style scoped>\n",
       "    .dataframe tbody tr th:only-of-type {\n",
       "        vertical-align: middle;\n",
       "    }\n",
       "\n",
       "    .dataframe tbody tr th {\n",
       "        vertical-align: top;\n",
       "    }\n",
       "\n",
       "    .dataframe thead th {\n",
       "        text-align: right;\n",
       "    }\n",
       "</style>\n",
       "<table border=\"1\" class=\"dataframe\">\n",
       "  <thead>\n",
       "    <tr style=\"text-align: right;\">\n",
       "      <th></th>\n",
       "      <th>id</th>\n",
       "      <th>prediction</th>\n",
       "    </tr>\n",
       "  </thead>\n",
       "  <tbody>\n",
       "    <tr>\n",
       "      <th>0</th>\n",
       "      <td>c6d58c3f69</td>\n",
       "      <td>1</td>\n",
       "    </tr>\n",
       "    <tr>\n",
       "      <th>1</th>\n",
       "      <td>cefcc82292</td>\n",
       "      <td>1</td>\n",
       "    </tr>\n",
       "    <tr>\n",
       "      <th>2</th>\n",
       "      <td>e98005252c</td>\n",
       "      <td>1</td>\n",
       "    </tr>\n",
       "    <tr>\n",
       "      <th>3</th>\n",
       "      <td>58518c10ba</td>\n",
       "      <td>1</td>\n",
       "    </tr>\n",
       "    <tr>\n",
       "      <th>4</th>\n",
       "      <td>c32b0d16df</td>\n",
       "      <td>1</td>\n",
       "    </tr>\n",
       "  </tbody>\n",
       "</table>\n",
       "</div>"
      ],
      "text/plain": [
       "           id  prediction\n",
       "0  c6d58c3f69           1\n",
       "1  cefcc82292           1\n",
       "2  e98005252c           1\n",
       "3  58518c10ba           1\n",
       "4  c32b0d16df           1"
      ]
     },
     "execution_count": 5,
     "metadata": {},
     "output_type": "execute_result"
    }
   ],
   "source": [
    "submission_df.head()"
   ]
  },
  {
   "cell_type": "markdown",
   "id": "vocational-sugar",
   "metadata": {
    "papermill": {
     "duration": 0.026683,
     "end_time": "2021-04-18T23:50:43.733630",
     "exception": false,
     "start_time": "2021-04-18T23:50:43.706947",
     "status": "completed"
    },
    "tags": []
   },
   "source": [
    "Observation(s):\n",
    "* The *id* column seems unnecessary as it does not include useful information.\n",
    "* The *lang_abv* and *language* columns seem unnecessary as the **XLM-RoBERTa** transformer is a multilingual model which [\"does not require *lang* tensors to understand which language is used.\"](https://huggingface.co/transformers/model_doc/xlmroberta.html)\n",
    "\n",
    "Decision(s):\n",
    "* Drop the *id*, *lang_abv*, and *language* columns from the dataset.\n",
    "\n",
    "관찰:\n",
    "* *id* 열은 별 다른 정보를 주지 않으므로 필요가 없어 보입니다.\n",
    "* **XLM-RoBERTa** transformer는 다중언어 모델로서 [입력 데이터의 언어에 대한 안내가 필요 없으므로](https://huggingface.co/transformers/model_doc/xlmroberta.html) *lang_abv* 와 *lanugage* 열은 필요가 없어 보입니다.\n",
    "\n",
    "결정:\n",
    "* *id*, *lang_abv*, *language* 열들을 데이터셋에서 제외시킵니다."
   ]
  },
  {
   "cell_type": "markdown",
   "id": "temporal-cleaner",
   "metadata": {
    "papermill": {
     "duration": 0.027335,
     "end_time": "2021-04-18T23:50:43.788832",
     "exception": false,
     "start_time": "2021-04-18T23:50:43.761497",
     "status": "completed"
    },
    "tags": []
   },
   "source": [
    "# Preprocess Data\n",
    "## Train/Validation Split\n",
    "We keep only the necessary columns (*premise*, *hypothesis*, *label*) and perform a train/validation split to evaluate our model during training.\n",
    "\n",
    "필요한 열들만 (*premise*, *hypothesis*, *label*) 유지하고 모델 훈련 중 평가를 위해 훈련 데이터셋을 훈련/검증 데이터셋들로 나눕니다."
   ]
  },
  {
   "cell_type": "code",
   "execution_count": 6,
   "id": "funky-boring",
   "metadata": {
    "execution": {
     "iopub.execute_input": "2021-04-18T23:50:43.846801Z",
     "iopub.status.busy": "2021-04-18T23:50:43.845996Z",
     "iopub.status.idle": "2021-04-18T23:50:43.859662Z",
     "shell.execute_reply": "2021-04-18T23:50:43.860180Z"
    },
    "papermill": {
     "duration": 0.044519,
     "end_time": "2021-04-18T23:50:43.860389",
     "exception": false,
     "start_time": "2021-04-18T23:50:43.815870",
     "status": "completed"
    },
    "tags": []
   },
   "outputs": [],
   "source": [
    "train_text_df, val_text_df, train_label, val_label = train_test_split(\n",
    "    train_df[['premise', 'hypothesis']], train_df['label'].values.tolist(),\n",
    "    test_size=0.2)\n",
    "\n",
    "test_text_df = test_df[['premise', 'hypothesis']]"
   ]
  },
  {
   "cell_type": "markdown",
   "id": "lesbian-johns",
   "metadata": {
    "papermill": {
     "duration": 0.02685,
     "end_time": "2021-04-18T23:50:43.914921",
     "exception": false,
     "start_time": "2021-04-18T23:50:43.888071",
     "status": "completed"
    },
    "tags": []
   },
   "source": [
    "## Data Augmentation\n",
    "### Synonym Augmenter\n",
    "We perform data augmentation in order to increase the size of our training set and prevent overfitting. As we are dealing with text data, we use a **synonym augmenter** from the [\"nlpaug\"](https://pypi.org/project/nlpaug/0.0.9/) library. Below is an example.\n",
    "\n",
    "훈련 데이터셋을 더 늘려서 과적합을 예방하기 위해 데이터 증강을 적용합니다. 텍스트 데이터이므로 [\"nlpaug\"](https://pypi.org/project/nlpaug/0.0.9/) 라이브러리의 **synonym augmenter**를 사용합니다. 아래에 예시가 있습니다."
   ]
  },
  {
   "cell_type": "code",
   "execution_count": 7,
   "id": "amber-stockholm",
   "metadata": {
    "execution": {
     "iopub.execute_input": "2021-04-18T23:50:43.973577Z",
     "iopub.status.busy": "2021-04-18T23:50:43.972929Z",
     "iopub.status.idle": "2021-04-18T23:50:46.425082Z",
     "shell.execute_reply": "2021-04-18T23:50:46.425812Z"
    },
    "papermill": {
     "duration": 2.483701,
     "end_time": "2021-04-18T23:50:46.426059",
     "exception": false,
     "start_time": "2021-04-18T23:50:43.942358",
     "status": "completed"
    },
    "tags": []
   },
   "outputs": [
    {
     "name": "stdout",
     "output_type": "stream",
     "text": [
      "Original:  These are issues that we wrestle with in practice groups of law firms, she said. \n",
      "Augmented: These are progeny that we wrestle with in practice chemical group of law business firm, she said.\n"
     ]
    }
   ],
   "source": [
    "syn_aug = naw.SynonymAug()\n",
    "\n",
    "original_sample = train_df['premise'].iloc[1]\n",
    "print('Original:  {}'.format(original_sample))\n",
    "\n",
    "augmented_sample = syn_aug.augment(original_sample)\n",
    "print('Augmented: {}'.format(augmented_sample))"
   ]
  },
  {
   "cell_type": "markdown",
   "id": "golden-arabic",
   "metadata": {
    "papermill": {
     "duration": 0.027931,
     "end_time": "2021-04-18T23:50:46.483069",
     "exception": false,
     "start_time": "2021-04-18T23:50:46.455138",
     "status": "completed"
    },
    "tags": []
   },
   "source": [
    "A synonym augmenter substitutes text data with a corresponding synonym listed in the WordNet database. For our model training, we decide to add about 25% of augmented data to the training set. We **do not apply this data augmentation to the validation dataset** because we should evaluate our model on data closest to real data.\n",
    "\n",
    "동의어 augmenter는 WordNet 데이터베이스에 기록된 텍스트 데이터 단어의 동의어로 대체해줍니다. 우리의 모델 훈련을 위해 훈련 데이터셋의 25%를 증강 데이터로 추가하기로 합니다. 주의할 것은 모델 검증을 실제 데이터에 가장 가까운 데이터로 해야하므로 이 **데이터 증강을 검증 데이터셋에 적용하지 않습니다**. "
   ]
  },
  {
   "cell_type": "code",
   "execution_count": 8,
   "id": "mediterranean-liabilities",
   "metadata": {
    "execution": {
     "iopub.execute_input": "2021-04-18T23:50:46.549454Z",
     "iopub.status.busy": "2021-04-18T23:50:46.548641Z",
     "iopub.status.idle": "2021-04-18T23:59:02.613948Z",
     "shell.execute_reply": "2021-04-18T23:59:02.612639Z"
    },
    "papermill": {
     "duration": 496.102869,
     "end_time": "2021-04-18T23:59:02.614147",
     "exception": false,
     "start_time": "2021-04-18T23:50:46.511278",
     "status": "completed"
    },
    "tags": []
   },
   "outputs": [
    {
     "name": "stderr",
     "output_type": "stream",
     "text": [
      "100%|██████████| 2424/2424 [08:16<00:00,  4.89it/s]"
     ]
    },
    {
     "name": "stdout",
     "output_type": "stream",
     "text": [
      "Amount before augmentation: 9696 texts, 9696 labels.\n",
      "Amount after augmentation:  12120 texts, 12120 labels.\n"
     ]
    },
    {
     "name": "stderr",
     "output_type": "stream",
     "text": [
      "\n"
     ]
    }
   ],
   "source": [
    "new_prem_text = []\n",
    "new_hypo_text = []\n",
    "new_label = []\n",
    "\n",
    "for i in tqdm(np.random.randint(0, len(train_text_df), len(train_text_df) // 4)): # divide by 4 to get 25%\n",
    "    prem_text = train_text_df.iloc[i]['premise']\n",
    "    hypo_text = train_text_df.iloc[i]['hypothesis']\n",
    "    \n",
    "    # augment both the premise and the hypothesis\n",
    "    aug_prem_text = syn_aug.augment(prem_text) \n",
    "    aug_hypo_text = syn_aug.augment(hypo_text)\n",
    "\n",
    "    new_prem_text.append(aug_prem_text)\n",
    "    new_hypo_text.append(aug_hypo_text)\n",
    "    \n",
    "    # match label to new texts\n",
    "    text_label = train_label[i]\n",
    "    new_label.append(text_label)\n",
    "\n",
    "aug_train_text_df = train_text_df.append(pd.DataFrame({'premise': new_prem_text, 'hypothesis': new_hypo_text}))\n",
    "aug_train_label = train_label + new_label\n",
    "\n",
    "print('Amount before augmentation: {} texts, {} labels.'.format(train_text_df.shape[0], len(train_label)))\n",
    "print('Amount after augmentation:  {} texts, {} labels.'.format(aug_train_text_df.shape[0], len(aug_train_label)))"
   ]
  },
  {
   "cell_type": "markdown",
   "id": "perfect-country",
   "metadata": {
    "papermill": {
     "duration": 0.75254,
     "end_time": "2021-04-18T23:59:04.113534",
     "exception": false,
     "start_time": "2021-04-18T23:59:03.360994",
     "status": "completed"
    },
    "tags": []
   },
   "source": [
    "## Setup Tokenizer\n",
    "A transformer takes token input ids as input, so we need a tokenizer to first encode the text data into tokens.\n",
    "\n",
    "Transformer는 token input id를 입력값으로 받기 때문에 우선 텍스트 데이터를 token으로 부호화해줄 tokenizer가 필요합니다."
   ]
  },
  {
   "cell_type": "code",
   "execution_count": 9,
   "id": "expressed-budapest",
   "metadata": {
    "execution": {
     "iopub.execute_input": "2021-04-18T23:59:05.655206Z",
     "iopub.status.busy": "2021-04-18T23:59:05.654264Z",
     "iopub.status.idle": "2021-04-18T23:59:07.700574Z",
     "shell.execute_reply": "2021-04-18T23:59:07.701098Z"
    },
    "papermill": {
     "duration": 2.829042,
     "end_time": "2021-04-18T23:59:07.701307",
     "exception": false,
     "start_time": "2021-04-18T23:59:04.872265",
     "status": "completed"
    },
    "tags": []
   },
   "outputs": [
    {
     "data": {
      "application/vnd.jupyter.widget-view+json": {
       "model_id": "d83dd0af32b847aab0680774d2d5216f",
       "version_major": 2,
       "version_minor": 0
      },
      "text/plain": [
       "Downloading:   0%|          | 0.00/5.07M [00:00<?, ?B/s]"
      ]
     },
     "metadata": {},
     "output_type": "display_data"
    }
   ],
   "source": [
    "PRETRAINED_MODEL = 'jplu/tf-xlm-roberta-large'\n",
    "\n",
    "tokenizer = XLMRobertaTokenizer.from_pretrained(PRETRAINED_MODEL)"
   ]
  },
  {
   "cell_type": "markdown",
   "id": "female-electron",
   "metadata": {
    "papermill": {
     "duration": 0.755233,
     "end_time": "2021-04-18T23:59:09.215593",
     "exception": false,
     "start_time": "2021-04-18T23:59:08.460360",
     "status": "completed"
    },
    "tags": []
   },
   "source": [
    "## Determine *MAX_LEN* for Encoding\n",
    "We need to set a max length for the text inputs in order to keep the token lengths equal. Shorter texts will be padded up to the max length, while longer texts will be truncated to it. Too much padding will lead to tokens not carrying information, whereas too much truncation will lead to losing useful information. We determine the appropriate size by examining the length distribution of the encoded tokens.\n",
    "\n",
    "Token들의 길이를 일정하게 하기 위해 텍스트 입력값들의 최대 길이를 설정해줘야합니다. 최대 길이보다 짧은 텍스트들은 최대 길이만큼 padding 되어서 길어지고, 더 긴 텍스트들은 최대 길이만큼 truncate 되어서 짧아집니다. 과한 padding은 정보가 담기지 않은 token들을 생성하고, 과한 truncation은 유용한 정보를 잃게 합니다. 적당한 길이를 정하기 위해 부호화된 token들의 길이 분포를 확인해봅니다. "
   ]
  },
  {
   "cell_type": "code",
   "execution_count": 10,
   "id": "metallic-chocolate",
   "metadata": {
    "execution": {
     "iopub.execute_input": "2021-04-18T23:59:10.718719Z",
     "iopub.status.busy": "2021-04-18T23:59:10.717982Z",
     "iopub.status.idle": "2021-04-18T23:59:13.558946Z",
     "shell.execute_reply": "2021-04-18T23:59:13.558297Z"
    },
    "papermill": {
     "duration": 3.595862,
     "end_time": "2021-04-18T23:59:13.559148",
     "exception": false,
     "start_time": "2021-04-18T23:59:09.963286",
     "status": "completed"
    },
    "tags": []
   },
   "outputs": [
    {
     "data": {
      "image/png": "[encoded data removed]",
      "text/plain": [
       "<Figure size 432x288 with 1 Axes>"
      ]
     },
     "metadata": {
      "needs_background": "light"
     },
     "output_type": "display_data"
    }
   ],
   "source": [
    "train_encoded_temp = tokenizer(\n",
    "    train_text_df.values.tolist(),\n",
    "    return_length=True)\n",
    "\n",
    "plt.hist(train_encoded_temp.length, bins=25)\n",
    "plt.show()"
   ]
  },
  {
   "cell_type": "code",
   "execution_count": 11,
   "id": "proprietary-knight",
   "metadata": {
    "execution": {
     "iopub.execute_input": "2021-04-18T23:59:15.143485Z",
     "iopub.status.busy": "2021-04-18T23:59:15.142723Z",
     "iopub.status.idle": "2021-04-18T23:59:15.157914Z",
     "shell.execute_reply": "2021-04-18T23:59:15.157250Z"
    },
    "papermill": {
     "duration": 0.807688,
     "end_time": "2021-04-18T23:59:15.158070",
     "exception": false,
     "start_time": "2021-04-18T23:59:14.350382",
     "status": "completed"
    },
    "tags": []
   },
   "outputs": [
    {
     "data": {
      "text/html": [
       "<div>\n",
       "<style scoped>\n",
       "    .dataframe tbody tr th:only-of-type {\n",
       "        vertical-align: middle;\n",
       "    }\n",
       "\n",
       "    .dataframe tbody tr th {\n",
       "        vertical-align: top;\n",
       "    }\n",
       "\n",
       "    .dataframe thead th {\n",
       "        text-align: right;\n",
       "    }\n",
       "</style>\n",
       "<table border=\"1\" class=\"dataframe\">\n",
       "  <thead>\n",
       "    <tr style=\"text-align: right;\">\n",
       "      <th></th>\n",
       "      <th>length</th>\n",
       "    </tr>\n",
       "  </thead>\n",
       "  <tbody>\n",
       "    <tr>\n",
       "      <th>count</th>\n",
       "      <td>9696.000000</td>\n",
       "    </tr>\n",
       "    <tr>\n",
       "      <th>mean</th>\n",
       "      <td>44.953280</td>\n",
       "    </tr>\n",
       "    <tr>\n",
       "      <th>std</th>\n",
       "      <td>19.150978</td>\n",
       "    </tr>\n",
       "    <tr>\n",
       "      <th>min</th>\n",
       "      <td>9.000000</td>\n",
       "    </tr>\n",
       "    <tr>\n",
       "      <th>50%</th>\n",
       "      <td>43.000000</td>\n",
       "    </tr>\n",
       "    <tr>\n",
       "      <th>75%</th>\n",
       "      <td>56.000000</td>\n",
       "    </tr>\n",
       "    <tr>\n",
       "      <th>90%</th>\n",
       "      <td>69.000000</td>\n",
       "    </tr>\n",
       "    <tr>\n",
       "      <th>95%</th>\n",
       "      <td>78.000000</td>\n",
       "    </tr>\n",
       "    <tr>\n",
       "      <th>99%</th>\n",
       "      <td>98.000000</td>\n",
       "    </tr>\n",
       "    <tr>\n",
       "      <th>max</th>\n",
       "      <td>246.000000</td>\n",
       "    </tr>\n",
       "  </tbody>\n",
       "</table>\n",
       "</div>"
      ],
      "text/plain": [
       "            length\n",
       "count  9696.000000\n",
       "mean     44.953280\n",
       "std      19.150978\n",
       "min       9.000000\n",
       "50%      43.000000\n",
       "75%      56.000000\n",
       "90%      69.000000\n",
       "95%      78.000000\n",
       "99%      98.000000\n",
       "max     246.000000"
      ]
     },
     "execution_count": 11,
     "metadata": {},
     "output_type": "execute_result"
    }
   ],
   "source": [
    "temp_df = pd.DataFrame(train_encoded_temp.length, columns=['length'])\n",
    "temp_df.describe(percentiles=[.75,.9,.95,.99])"
   ]
  },
  {
   "cell_type": "markdown",
   "id": "rotary-jaguar",
   "metadata": {
    "papermill": {
     "duration": 0.785479,
     "end_time": "2021-04-18T23:59:16.754104",
     "exception": false,
     "start_time": "2021-04-18T23:59:15.968625",
     "status": "completed"
    },
    "tags": []
   },
   "source": [
    "Observation(s):\n",
    "* The length distribution is heavily skewed to the left.\n",
    "* While the longest is 246 tokens long, the 99th percentile text's length is 98 tokens long.\n",
    "\n",
    "Decision(s):\n",
    "* A max length of around 80 tokens seems appropriate, retaining about 95% of the data.\n",
    "\n",
    "관찰:\n",
    "* 길이 분포가 왼쪽으로 크게 왜곡되어습니다.\n",
    "* 가장 긴 값은 246 토큰만큼 길지만, 99번째 백위분수 텍스트의 길이는 98 토큰만큼 깁니다.\n",
    "\n",
    "결정:\n",
    "* 80 토큰의 최대 길이가 95% 정도의 데이터를 포함하므로 적당해보입니다. "
   ]
  },
  {
   "cell_type": "code",
   "execution_count": 12,
   "id": "unique-simple",
   "metadata": {
    "execution": {
     "iopub.execute_input": "2021-04-18T23:59:18.268339Z",
     "iopub.status.busy": "2021-04-18T23:59:18.267645Z",
     "iopub.status.idle": "2021-04-18T23:59:18.271393Z",
     "shell.execute_reply": "2021-04-18T23:59:18.270716Z"
    },
    "papermill": {
     "duration": 0.761355,
     "end_time": "2021-04-18T23:59:18.271544",
     "exception": false,
     "start_time": "2021-04-18T23:59:17.510189",
     "status": "completed"
    },
    "tags": []
   },
   "outputs": [],
   "source": [
    "MAX_LENGTH = 80"
   ]
  },
  {
   "cell_type": "markdown",
   "id": "instant-legislature",
   "metadata": {
    "papermill": {
     "duration": 0.753736,
     "end_time": "2021-04-18T23:59:19.790618",
     "exception": false,
     "start_time": "2021-04-18T23:59:19.036882",
     "status": "completed"
    },
    "tags": []
   },
   "source": [
    "## Encode Text Input and Obtain Input Ids\n",
    "The transformer takes tokens by their input ids, so we need to obtain the input ids of the training, validation, and test datasets.\n",
    "\n",
    "Transformer는 token들의 input id들을 읽어들이기 때문에 훈련, 검증, 시험 데이터셋의 input id들을 구해야합니다."
   ]
  },
  {
   "cell_type": "code",
   "execution_count": 13,
   "id": "fewer-budget",
   "metadata": {
    "execution": {
     "iopub.execute_input": "2021-04-18T23:59:21.352782Z",
     "iopub.status.busy": "2021-04-18T23:59:21.347598Z",
     "iopub.status.idle": "2021-04-18T23:59:27.110567Z",
     "shell.execute_reply": "2021-04-18T23:59:27.109935Z"
    },
    "papermill": {
     "duration": 6.553898,
     "end_time": "2021-04-18T23:59:27.110709",
     "exception": false,
     "start_time": "2021-04-18T23:59:20.556811",
     "status": "completed"
    },
    "tags": []
   },
   "outputs": [],
   "source": [
    "train_encoded = tokenizer(\n",
    "    aug_train_text_df.values.tolist(), \n",
    "    max_length=MAX_LENGTH, \n",
    "    padding='max_length', \n",
    "    truncation='longest_first')\n",
    "val_encoded = tokenizer(\n",
    "    val_text_df.values.tolist(), \n",
    "    max_length=MAX_LENGTH, \n",
    "    padding='max_length', \n",
    "    truncation='longest_first')\n",
    "test_encoded = tokenizer(\n",
    "    test_text_df.values.tolist(),\n",
    "    max_length=MAX_LENGTH, \n",
    "    padding='max_length', \n",
    "    truncation='longest_first')\n",
    "\n",
    "train_ids = train_encoded['input_ids']\n",
    "val_ids = val_encoded['input_ids']\n",
    "test_ids = test_encoded['input_ids']"
   ]
  },
  {
   "cell_type": "markdown",
   "id": "automotive-essence",
   "metadata": {
    "papermill": {
     "duration": 0.801778,
     "end_time": "2021-04-18T23:59:28.690500",
     "exception": false,
     "start_time": "2021-04-18T23:59:27.888722",
     "status": "completed"
    },
    "tags": []
   },
   "source": [
    "## Convert to TensorFlow Dataset\n",
    "We convert the data into TensorFlow datasets which the model can read in during training, and to enable training on TPUs.\n",
    "\n",
    "TPU에 모델 훈련을 시킬 수 있기 위해 데이터를 TensorFlow dataset 형태로 전환해줍니다."
   ]
  },
  {
   "cell_type": "code",
   "execution_count": 14,
   "id": "killing-valuation",
   "metadata": {
    "execution": {
     "iopub.execute_input": "2021-04-18T23:59:30.216550Z",
     "iopub.status.busy": "2021-04-18T23:59:30.211391Z",
     "iopub.status.idle": "2021-04-18T23:59:35.716780Z",
     "shell.execute_reply": "2021-04-18T23:59:35.716130Z"
    },
    "papermill": {
     "duration": 6.270741,
     "end_time": "2021-04-18T23:59:35.716918",
     "exception": false,
     "start_time": "2021-04-18T23:59:29.446177",
     "status": "completed"
    },
    "tags": []
   },
   "outputs": [],
   "source": [
    "BATCH_SIZE = 16 * strategy.num_replicas_in_sync # for each TPU unit\n",
    "AUTO = tf.data.experimental.AUTOTUNE\n",
    "\n",
    "train_dataset = (\n",
    "    tf.data.Dataset\n",
    "    .from_tensor_slices((train_ids, aug_train_label))\n",
    "    .shuffle(len(train_ids), reshuffle_each_iteration=True) # for perfect shuffle\n",
    "    .batch(BATCH_SIZE)\n",
    "    .prefetch(AUTO))\n",
    "val_dataset = (\n",
    "    tf.data.Dataset\n",
    "    .from_tensor_slices((val_ids, val_label))\n",
    "    .batch(BATCH_SIZE)\n",
    "    .cache()\n",
    "    .prefetch(AUTO))\n",
    "test_dataset = (\n",
    "    tf.data.Dataset\n",
    "    .from_tensor_slices(test_ids)\n",
    "    .batch(BATCH_SIZE))"
   ]
  },
  {
   "cell_type": "markdown",
   "id": "seasonal-premises",
   "metadata": {
    "papermill": {
     "duration": 0.75662,
     "end_time": "2021-04-18T23:59:37.230593",
     "exception": false,
     "start_time": "2021-04-18T23:59:36.473973",
     "status": "completed"
    },
    "tags": []
   },
   "source": [
    "# Model Training\n",
    "## Creating and Loading Model onto TPU\n",
    "We setup the model within a *strategy.scope()* in order to use the TPU. We add dropout and batch normalization layers in order to prevent overfitting, and decrease the Adam optimizer's learning rate to 1e-5 as the default learning rate of 1e-3 seems to cause the model to diverge.\n",
    "\n",
    "모델 훈련을 TPU로 하기 위해 *strategy.scope()* 안에서 구축합니다. 과적합을 예방하기 위해 dropout과 batch normalization layer들을 추가하고, Adam optimizer의 기본 학습률 1e-3은 모델이 diverge하게 만드는 것으로 보이기에 학습률을 1e-5로 낮춰줍니다."
   ]
  },
  {
   "cell_type": "code",
   "execution_count": 15,
   "id": "round-stamp",
   "metadata": {
    "execution": {
     "iopub.execute_input": "2021-04-18T23:59:38.776400Z",
     "iopub.status.busy": "2021-04-18T23:59:38.774285Z",
     "iopub.status.idle": "2021-04-19T00:02:37.203107Z",
     "shell.execute_reply": "2021-04-19T00:02:37.203651Z"
    },
    "papermill": {
     "duration": 179.22203,
     "end_time": "2021-04-19T00:02:37.204094",
     "exception": false,
     "start_time": "2021-04-18T23:59:37.982064",
     "status": "completed"
    },
    "tags": []
   },
   "outputs": [
    {
     "data": {
      "application/vnd.jupyter.widget-view+json": {
       "model_id": "f834df6793d842b6921d9fc28f67bbfe",
       "version_major": 2,
       "version_minor": 0
      },
      "text/plain": [
       "Downloading:   0%|          | 0.00/513 [00:00<?, ?B/s]"
      ]
     },
     "metadata": {},
     "output_type": "display_data"
    },
    {
     "data": {
      "application/vnd.jupyter.widget-view+json": {
       "model_id": "6f0c5b6bccdd48e992f75a1cf8debbc5",
       "version_major": 2,
       "version_minor": 0
      },
      "text/plain": [
       "Downloading:   0%|          | 0.00/3.27G [00:00<?, ?B/s]"
      ]
     },
     "metadata": {},
     "output_type": "display_data"
    },
    {
     "name": "stderr",
     "output_type": "stream",
     "text": [
      "Some layers from the model checkpoint at jplu/tf-xlm-roberta-large were not used when initializing TFXLMRobertaModel: ['lm_head']\n",
      "- This IS expected if you are initializing TFXLMRobertaModel from the checkpoint of a model trained on another task or with another architecture (e.g. initializing a BertForSequenceClassification model from a BertForPreTraining model).\n",
      "- This IS NOT expected if you are initializing TFXLMRobertaModel from the checkpoint of a model that you expect to be exactly identical (initializing a BertForSequenceClassification model from a BertForSequenceClassification model).\n",
      "All the layers of TFXLMRobertaModel were initialized from the model checkpoint at jplu/tf-xlm-roberta-large.\n",
      "If your task is similar to the task the model of the checkpoint was trained on, you can already use TFXLMRobertaModel for predictions without further training.\n"
     ]
    },
    {
     "name": "stdout",
     "output_type": "stream",
     "text": [
      "Model: \"model\"\n",
      "_________________________________________________________________\n",
      "Layer (type)                 Output Shape              Param #   \n",
      "=================================================================\n",
      "input_ids (InputLayer)       [(None, 80)]              0         \n",
      "_________________________________________________________________\n",
      "tfxlm_roberta_model (TFXLMRo TFBaseModelOutputWithPool 559890432 \n",
      "_________________________________________________________________\n",
      "tf.__operators__.getitem (Sl (None, 1024)              0         \n",
      "_________________________________________________________________\n",
      "dropout_73 (Dropout)         (None, 1024)              0         \n",
      "_________________________________________________________________\n",
      "batch_normalization (BatchNo (None, 1024)              4096      \n",
      "_________________________________________________________________\n",
      "dense (Dense)                (None, 3)                 3075      \n",
      "=================================================================\n",
      "Total params: 559,897,603\n",
      "Trainable params: 559,895,555\n",
      "Non-trainable params: 2,048\n",
      "_________________________________________________________________\n"
     ]
    }
   ],
   "source": [
    "with strategy.scope():\n",
    "    # setup XLM-RoBERTa model\n",
    "    transformer_encoder = TFXLMRobertaModel.from_pretrained(PRETRAINED_MODEL)\n",
    "\n",
    "    # take in inputs and generate necessary outputs\n",
    "    input_ids = tf.keras.layers.Input(shape=(MAX_LENGTH,), dtype=tf.int32, name='input_ids')\n",
    "    sequence_output = transformer_encoder(input_ids)[0]\n",
    "    cls_token = sequence_output[:, 0, :]\n",
    "    \n",
    "    # prevent overfitting\n",
    "    dropout = tf.keras.layers.Dropout(0.3)(cls_token) # prevent overfitting\n",
    "    batch_norm = tf.keras.layers.BatchNormalization()(dropout) # prevent overfitting\n",
    "    \n",
    "    output = tf.keras.layers.Dense(3, activation='softmax')(batch_norm)\n",
    "\n",
    "    model = tf.keras.Model(inputs=input_ids, outputs=output)\n",
    "    model.compile(\n",
    "        optimizer=tf.keras.optimizers.Adam(lr=1e-6), # default lr doesn't converge\n",
    "        loss='sparse_categorical_crossentropy', \n",
    "        metrics=['accuracy'])\n",
    "\n",
    "model.summary()"
   ]
  },
  {
   "cell_type": "markdown",
   "id": "engaged-roulette",
   "metadata": {
    "papermill": {
     "duration": 0.839279,
     "end_time": "2021-04-19T00:02:38.806198",
     "exception": false,
     "start_time": "2021-04-19T00:02:37.966919",
     "status": "completed"
    },
    "tags": []
   },
   "source": [
    "## Early Stopping\n",
    "Set up an early stopping callback to train the model up to when the lowest validation loss is obtained.\n",
    "\n",
    "모델을 최저 검증 손실값을 얻었을 때까지 훈련 시키기 위해 early stopping callback을 만들어줍니다."
   ]
  },
  {
   "cell_type": "code",
   "execution_count": 16,
   "id": "frozen-grenada",
   "metadata": {
    "execution": {
     "iopub.execute_input": "2021-04-19T00:02:40.328418Z",
     "iopub.status.busy": "2021-04-19T00:02:40.327701Z",
     "iopub.status.idle": "2021-04-19T00:02:40.332678Z",
     "shell.execute_reply": "2021-04-19T00:02:40.332020Z"
    },
    "papermill": {
     "duration": 0.768661,
     "end_time": "2021-04-19T00:02:40.332826",
     "exception": false,
     "start_time": "2021-04-19T00:02:39.564165",
     "status": "completed"
    },
    "tags": []
   },
   "outputs": [],
   "source": [
    "early_stopping = tf.keras.callbacks.EarlyStopping(\n",
    "    monitor='val_loss',\n",
    "    patience= 10, # stops training after 10 consecutive non-decreases in min val loss\n",
    "    verbose=1,\n",
    "    mode='auto',\n",
    "    restore_best_weights=True)"
   ]
  },
  {
   "cell_type": "markdown",
   "id": "statewide-silence",
   "metadata": {
    "papermill": {
     "duration": 0.759407,
     "end_time": "2021-04-19T00:02:41.855613",
     "exception": false,
     "start_time": "2021-04-19T00:02:41.096206",
     "status": "completed"
    },
    "tags": []
   },
   "source": [
    "## Train Model\n",
    "We now train the model to learn the premise and hypothesis relationships.\n",
    "\n",
    "이제 모델이 전제와 가설들의 관계를 학습하기 위해 훈련시킵니다."
   ]
  },
  {
   "cell_type": "code",
   "execution_count": 17,
   "id": "prostate-flesh",
   "metadata": {
    "execution": {
     "iopub.execute_input": "2021-04-19T00:02:43.380978Z",
     "iopub.status.busy": "2021-04-19T00:02:43.380289Z",
     "iopub.status.idle": "2021-04-19T00:33:31.188753Z",
     "shell.execute_reply": "2021-04-19T00:33:31.189276Z"
    },
    "papermill": {
     "duration": 1848.574611,
     "end_time": "2021-04-19T00:33:31.189472",
     "exception": false,
     "start_time": "2021-04-19T00:02:42.614861",
     "status": "completed"
    },
    "tags": []
   },
   "outputs": [
    {
     "name": "stdout",
     "output_type": "stream",
     "text": [
      "Epoch 1/100\n"
     ]
    },
    {
     "name": "stderr",
     "output_type": "stream",
     "text": [
      "/opt/conda/lib/python3.7/site-packages/tensorflow/python/framework/indexed_slices.py:430: UserWarning: Converting sparse IndexedSlices to a dense Tensor with 256002048 elements. This may consume a large amount of memory.\n",
      "  num_elements)\n"
     ]
    },
    {
     "name": "stdout",
     "output_type": "stream",
     "text": [
      "95/95 [==============================] - 273s 1s/step - loss: 1.4271 - accuracy: 0.3237 - val_loss: 1.0979 - val_accuracy: 0.3445\n",
      "Epoch 2/100\n",
      "95/95 [==============================] - 23s 245ms/step - loss: 1.3338 - accuracy: 0.3486 - val_loss: 1.0973 - val_accuracy: 0.3540\n",
      "Epoch 3/100\n",
      "95/95 [==============================] - 23s 247ms/step - loss: 1.3139 - accuracy: 0.3368 - val_loss: 1.0964 - val_accuracy: 0.3601\n",
      "Epoch 4/100\n",
      "95/95 [==============================] - 23s 245ms/step - loss: 1.2931 - accuracy: 0.3405 - val_loss: 1.0983 - val_accuracy: 0.3494\n",
      "Epoch 5/100\n",
      "95/95 [==============================] - 23s 245ms/step - loss: 1.2894 - accuracy: 0.3382 - val_loss: 1.0988 - val_accuracy: 0.3573\n",
      "Epoch 6/100\n",
      "95/95 [==============================] - 23s 246ms/step - loss: 1.2669 - accuracy: 0.3518 - val_loss: 1.0964 - val_accuracy: 0.3535\n",
      "Epoch 7/100\n",
      "95/95 [==============================] - 23s 247ms/step - loss: 1.2590 - accuracy: 0.3396 - val_loss: 1.0940 - val_accuracy: 0.3717\n",
      "Epoch 8/100\n",
      "95/95 [==============================] - 23s 246ms/step - loss: 1.2404 - accuracy: 0.3505 - val_loss: 1.0929 - val_accuracy: 0.3667\n",
      "Epoch 9/100\n",
      "95/95 [==============================] - 24s 248ms/step - loss: 1.2442 - accuracy: 0.3521 - val_loss: 1.0897 - val_accuracy: 0.3733\n",
      "Epoch 10/100\n",
      "95/95 [==============================] - 23s 245ms/step - loss: 1.2342 - accuracy: 0.3506 - val_loss: 1.0911 - val_accuracy: 0.3684\n",
      "Epoch 11/100\n",
      "95/95 [==============================] - 23s 246ms/step - loss: 1.2216 - accuracy: 0.3500 - val_loss: 1.0835 - val_accuracy: 0.4072\n",
      "Epoch 12/100\n",
      "95/95 [==============================] - 23s 247ms/step - loss: 1.2271 - accuracy: 0.3687 - val_loss: 1.0785 - val_accuracy: 0.4138\n",
      "Epoch 13/100\n",
      "95/95 [==============================] - 23s 246ms/step - loss: 1.2010 - accuracy: 0.3773 - val_loss: 1.0756 - val_accuracy: 0.4257\n",
      "Epoch 14/100\n",
      "95/95 [==============================] - 23s 246ms/step - loss: 1.2197 - accuracy: 0.3666 - val_loss: 1.0639 - val_accuracy: 0.4439\n",
      "Epoch 15/100\n",
      "95/95 [==============================] - 23s 246ms/step - loss: 1.1910 - accuracy: 0.3867 - val_loss: 1.0603 - val_accuracy: 0.4443\n",
      "Epoch 16/100\n",
      "95/95 [==============================] - 23s 247ms/step - loss: 1.1859 - accuracy: 0.3909 - val_loss: 1.0351 - val_accuracy: 0.4930\n",
      "Epoch 17/100\n",
      "95/95 [==============================] - 23s 246ms/step - loss: 1.1555 - accuracy: 0.4245 - val_loss: 1.0113 - val_accuracy: 0.5103\n",
      "Epoch 18/100\n",
      "95/95 [==============================] - 23s 246ms/step - loss: 1.1356 - accuracy: 0.4357 - val_loss: 0.9697 - val_accuracy: 0.5479\n",
      "Epoch 19/100\n",
      "95/95 [==============================] - 25s 260ms/step - loss: 1.0925 - accuracy: 0.4772 - val_loss: 0.9231 - val_accuracy: 0.5920\n",
      "Epoch 20/100\n",
      "95/95 [==============================] - 23s 246ms/step - loss: 1.0436 - accuracy: 0.5091 - val_loss: 0.8779 - val_accuracy: 0.6134\n",
      "Epoch 21/100\n",
      "95/95 [==============================] - 23s 246ms/step - loss: 1.0163 - accuracy: 0.5362 - val_loss: 0.8352 - val_accuracy: 0.6320\n",
      "Epoch 22/100\n",
      "95/95 [==============================] - 23s 246ms/step - loss: 0.9888 - accuracy: 0.5597 - val_loss: 0.7834 - val_accuracy: 0.6679\n",
      "Epoch 23/100\n",
      "95/95 [==============================] - 23s 245ms/step - loss: 0.9439 - accuracy: 0.5768 - val_loss: 0.7511 - val_accuracy: 0.6745\n",
      "Epoch 24/100\n",
      "95/95 [==============================] - 23s 246ms/step - loss: 0.9169 - accuracy: 0.6048 - val_loss: 0.7343 - val_accuracy: 0.6943\n",
      "Epoch 25/100\n",
      "95/95 [==============================] - 23s 246ms/step - loss: 0.8942 - accuracy: 0.6197 - val_loss: 0.7047 - val_accuracy: 0.7030\n",
      "Epoch 26/100\n",
      "95/95 [==============================] - 23s 246ms/step - loss: 0.8464 - accuracy: 0.6427 - val_loss: 0.6766 - val_accuracy: 0.7219\n",
      "Epoch 27/100\n",
      "95/95 [==============================] - 23s 246ms/step - loss: 0.8545 - accuracy: 0.6490 - val_loss: 0.6839 - val_accuracy: 0.7166\n",
      "Epoch 28/100\n",
      "95/95 [==============================] - 23s 246ms/step - loss: 0.8057 - accuracy: 0.6711 - val_loss: 0.6490 - val_accuracy: 0.7389\n",
      "Epoch 29/100\n",
      "95/95 [==============================] - 23s 245ms/step - loss: 0.7685 - accuracy: 0.6974 - val_loss: 0.6301 - val_accuracy: 0.7492\n",
      "Epoch 30/100\n",
      "95/95 [==============================] - 24s 248ms/step - loss: 0.7589 - accuracy: 0.6923 - val_loss: 0.6059 - val_accuracy: 0.7599\n",
      "Epoch 31/100\n",
      "95/95 [==============================] - 23s 246ms/step - loss: 0.7284 - accuracy: 0.7112 - val_loss: 0.6006 - val_accuracy: 0.7558\n",
      "Epoch 32/100\n",
      "95/95 [==============================] - 24s 249ms/step - loss: 0.7309 - accuracy: 0.7090 - val_loss: 0.5901 - val_accuracy: 0.7669\n",
      "Epoch 33/100\n",
      "95/95 [==============================] - 23s 246ms/step - loss: 0.6866 - accuracy: 0.7379 - val_loss: 0.5802 - val_accuracy: 0.7719\n",
      "Epoch 34/100\n",
      "95/95 [==============================] - 23s 245ms/step - loss: 0.6814 - accuracy: 0.7349 - val_loss: 0.5708 - val_accuracy: 0.7797\n",
      "Epoch 35/100\n",
      "95/95 [==============================] - 23s 246ms/step - loss: 0.6625 - accuracy: 0.7406 - val_loss: 0.5609 - val_accuracy: 0.7764\n",
      "Epoch 36/100\n",
      "95/95 [==============================] - 23s 246ms/step - loss: 0.6196 - accuracy: 0.7612 - val_loss: 0.5546 - val_accuracy: 0.7838\n",
      "Epoch 37/100\n",
      "95/95 [==============================] - 23s 246ms/step - loss: 0.6338 - accuracy: 0.7605 - val_loss: 0.5576 - val_accuracy: 0.7706\n",
      "Epoch 38/100\n",
      "95/95 [==============================] - 23s 247ms/step - loss: 0.6222 - accuracy: 0.7641 - val_loss: 0.5401 - val_accuracy: 0.7921\n",
      "Epoch 39/100\n",
      "95/95 [==============================] - 23s 246ms/step - loss: 0.6234 - accuracy: 0.7607 - val_loss: 0.5344 - val_accuracy: 0.7904\n",
      "Epoch 40/100\n",
      "95/95 [==============================] - 23s 246ms/step - loss: 0.5885 - accuracy: 0.7781 - val_loss: 0.5439 - val_accuracy: 0.7875\n",
      "Epoch 41/100\n",
      "95/95 [==============================] - 23s 246ms/step - loss: 0.5901 - accuracy: 0.7816 - val_loss: 0.5287 - val_accuracy: 0.7921\n",
      "Epoch 42/100\n",
      "95/95 [==============================] - 23s 246ms/step - loss: 0.5643 - accuracy: 0.7837 - val_loss: 0.5266 - val_accuracy: 0.7921\n",
      "Epoch 43/100\n",
      "95/95 [==============================] - 23s 246ms/step - loss: 0.5548 - accuracy: 0.7973 - val_loss: 0.5245 - val_accuracy: 0.7950\n",
      "Epoch 44/100\n",
      "95/95 [==============================] - 23s 245ms/step - loss: 0.5207 - accuracy: 0.8097 - val_loss: 0.5329 - val_accuracy: 0.7896\n",
      "Epoch 45/100\n",
      "95/95 [==============================] - 23s 246ms/step - loss: 0.5381 - accuracy: 0.7981 - val_loss: 0.5314 - val_accuracy: 0.7929\n",
      "Epoch 46/100\n",
      "95/95 [==============================] - 23s 246ms/step - loss: 0.5302 - accuracy: 0.8080 - val_loss: 0.5172 - val_accuracy: 0.7966\n",
      "Epoch 47/100\n",
      "95/95 [==============================] - 23s 247ms/step - loss: 0.4959 - accuracy: 0.8246 - val_loss: 0.5174 - val_accuracy: 0.7929\n",
      "Epoch 48/100\n",
      "95/95 [==============================] - 23s 246ms/step - loss: 0.4940 - accuracy: 0.8178 - val_loss: 0.5304 - val_accuracy: 0.7921\n",
      "Epoch 49/100\n",
      "95/95 [==============================] - 23s 247ms/step - loss: 0.4819 - accuracy: 0.8281 - val_loss: 0.5236 - val_accuracy: 0.7917\n",
      "Epoch 50/100\n",
      "95/95 [==============================] - 23s 246ms/step - loss: 0.4481 - accuracy: 0.8347 - val_loss: 0.5201 - val_accuracy: 0.7987\n",
      "Epoch 51/100\n",
      "95/95 [==============================] - 23s 246ms/step - loss: 0.4517 - accuracy: 0.8349 - val_loss: 0.5264 - val_accuracy: 0.7933\n",
      "Epoch 52/100\n",
      "95/95 [==============================] - 24s 248ms/step - loss: 0.4496 - accuracy: 0.8485 - val_loss: 0.5291 - val_accuracy: 0.7958\n",
      "Epoch 53/100\n",
      "95/95 [==============================] - 23s 247ms/step - loss: 0.4335 - accuracy: 0.8491 - val_loss: 0.5475 - val_accuracy: 0.8040\n",
      "Epoch 54/100\n",
      "95/95 [==============================] - 23s 246ms/step - loss: 0.4247 - accuracy: 0.8531 - val_loss: 0.5511 - val_accuracy: 0.7900\n",
      "Epoch 55/100\n",
      "95/95 [==============================] - 23s 246ms/step - loss: 0.4149 - accuracy: 0.8668 - val_loss: 0.5423 - val_accuracy: 0.7946\n",
      "Epoch 56/100\n",
      "95/95 [==============================] - 23s 246ms/step - loss: 0.3969 - accuracy: 0.8637 - val_loss: 0.5607 - val_accuracy: 0.7884\n",
      "Restoring model weights from the end of the best epoch.\n",
      "Epoch 00056: early stopping\n"
     ]
    }
   ],
   "source": [
    "EPOCHS = 100\n",
    "\n",
    "train_history = model.fit(\n",
    "    train_dataset,\n",
    "    epochs=EPOCHS,\n",
    "    callbacks=[early_stopping],\n",
    "    validation_data=val_dataset)"
   ]
  },
  {
   "cell_type": "markdown",
   "id": "finished-glasgow",
   "metadata": {
    "papermill": {
     "duration": 2.430324,
     "end_time": "2021-04-19T00:33:36.040586",
     "exception": false,
     "start_time": "2021-04-19T00:33:33.610262",
     "status": "completed"
    },
    "tags": []
   },
   "source": [
    "# Model Performance\n",
    "We examine the model training's validation loss and accuracy to see how well it learned.\n",
    "\n",
    "모델이 얼마나 잘 학습되었는지 알아보기 위해 검증 손실값과 정확도를 살펴봅니다."
   ]
  },
  {
   "cell_type": "code",
   "execution_count": 18,
   "id": "polar-fleece",
   "metadata": {
    "execution": {
     "iopub.execute_input": "2021-04-19T00:33:40.895331Z",
     "iopub.status.busy": "2021-04-19T00:33:40.894674Z",
     "iopub.status.idle": "2021-04-19T00:33:42.250027Z",
     "shell.execute_reply": "2021-04-19T00:33:42.249478Z"
    },
    "papermill": {
     "duration": 3.754525,
     "end_time": "2021-04-19T00:33:42.250207",
     "exception": false,
     "start_time": "2021-04-19T00:33:38.495682",
     "status": "completed"
    },
    "tags": []
   },
   "outputs": [
    {
     "data": {
      "text/html": [
       "        <script type=\"text/javascript\">\n",
       "        window.PlotlyConfig = {MathJaxConfig: 'local'};\n",
       "        if (window.MathJax) {MathJax.Hub.Config({SVG: {font: \"STIX-Web\"}});}\n",
       "        if (typeof require !== 'undefined') {\n",
       "        require.undef(\"plotly\");\n",
       "        requirejs.config({\n",
       "            paths: {\n",
       "                'plotly': ['https://cdn.plot.ly/plotly-latest.min']\n",
       "            }\n",
       "        });\n",
       "        require(['plotly'], function(Plotly) {\n",
       "            window._Plotly = Plotly;\n",
       "        });\n",
       "        }\n",
       "        </script>\n",
       "        "
      ]
     },
     "metadata": {},
     "output_type": "display_data"
    },
    {
     "data": {
      "text/html": [
       "<div>                            <div id=\"2441d90a-9089-4955-87c1-76b5b90f8382\" class=\"plotly-graph-div\" style=\"height:525px; width:100%;\"></div>            <script type=\"text/javascript\">                require([\"plotly\"], function(Plotly) {                    window.PLOTLYENV=window.PLOTLYENV || {};                                    if (document.getElementById(\"2441d90a-9089-4955-87c1-76b5b90f8382\")) {                    Plotly.newPlot(                        \"2441d90a-9089-4955-87c1-76b5b90f8382\",                        [{\"hovertemplate\": \"variable=loss<br>Epoch=%{x}<br>Loss=%{y}<extra></extra>\", \"legendgroup\": \"loss\", \"line\": {\"color\": \"#636efa\", \"dash\": \"solid\"}, \"mode\": \"lines\", \"name\": \"loss\", \"orientation\": \"v\", \"showlegend\": true, \"type\": \"scatter\", \"x\": [1, 2, 3, 4, 5, 6, 7, 8, 9, 10, 11, 12, 13, 14, 15, 16, 17, 18, 19, 20, 21, 22, 23, 24, 25, 26, 27, 28, 29, 30, 31, 32, 33, 34, 35, 36, 37, 38, 39, 40, 41, 42, 43, 44, 45, 46, 47, 48, 49, 50, 51, 52, 53, 54, 55, 56], \"xaxis\": \"x\", \"y\": [1.395578145980835, 1.3361965417861938, 1.3018475770950317, 1.294071912765503, 1.2822078466415405, 1.2603466510772705, 1.257071852684021, 1.2521576881408691, 1.2453563213348389, 1.2358886003494263, 1.2230418920516968, 1.2297403812408447, 1.213411808013916, 1.2191566228866577, 1.1929875612258911, 1.1695767641067505, 1.143955945968628, 1.1296746730804443, 1.0914723873138428, 1.0457102060317993, 1.0073012113571167, 0.97892165184021, 0.9376063942909241, 0.9123930931091309, 0.8886209726333618, 0.8523081541061401, 0.8436431288719177, 0.8011923432350159, 0.773945689201355, 0.7494480013847351, 0.7362781167030334, 0.7285174131393433, 0.6983779668807983, 0.6823716163635254, 0.663438081741333, 0.6398796439170837, 0.6384084224700928, 0.6210433840751648, 0.6100715398788452, 0.5892594456672668, 0.5926064252853394, 0.5629498362541199, 0.5550580620765686, 0.533139705657959, 0.5393171310424805, 0.5333473086357117, 0.5105276107788086, 0.4821402430534363, 0.48216164112091064, 0.46883273124694824, 0.4533247947692871, 0.4474395215511322, 0.4273306727409363, 0.42544054985046387, 0.41599947214126587, 0.404725581407547], \"yaxis\": \"y\"}, {\"hovertemplate\": \"variable=val_loss<br>Epoch=%{x}<br>Loss=%{y}<extra></extra>\", \"legendgroup\": \"val_loss\", \"line\": {\"color\": \"#EF553B\", \"dash\": \"solid\"}, \"mode\": \"lines\", \"name\": \"val_loss\", \"orientation\": \"v\", \"showlegend\": true, \"type\": \"scatter\", \"x\": [1, 2, 3, 4, 5, 6, 7, 8, 9, 10, 11, 12, 13, 14, 15, 16, 17, 18, 19, 20, 21, 22, 23, 24, 25, 26, 27, 28, 29, 30, 31, 32, 33, 34, 35, 36, 37, 38, 39, 40, 41, 42, 43, 44, 45, 46, 47, 48, 49, 50, 51, 52, 53, 54, 55, 56], \"xaxis\": \"x\", \"y\": [1.0978705883026123, 1.0972628593444824, 1.096447229385376, 1.098322868347168, 1.0988081693649292, 1.0963581800460815, 1.09400475025177, 1.0928845405578613, 1.0897475481033325, 1.0911130905151367, 1.0835038423538208, 1.0785218477249146, 1.075626015663147, 1.0638647079467773, 1.0602935552597046, 1.0351170301437378, 1.0113332271575928, 0.9696508049964905, 0.9231030941009521, 0.8778707385063171, 0.8352264165878296, 0.7834272980690002, 0.751145601272583, 0.734255850315094, 0.7047420144081116, 0.6766323447227478, 0.6838528513908386, 0.6489584445953369, 0.6301180124282837, 0.6059064269065857, 0.6005551815032959, 0.5901100039482117, 0.5801523923873901, 0.5708124041557312, 0.5609259009361267, 0.5546040534973145, 0.5576387643814087, 0.5401095747947693, 0.534403920173645, 0.5439273715019226, 0.5287249684333801, 0.5265871286392212, 0.5245192050933838, 0.5329424142837524, 0.5314018130302429, 0.5171988606452942, 0.5173771977424622, 0.5303719639778137, 0.5235599279403687, 0.5200814604759216, 0.5264117121696472, 0.5290783047676086, 0.5474721193313599, 0.5511248707771301, 0.5423411130905151, 0.5606897473335266], \"yaxis\": \"y\"}],                        {\"legend\": {\"title\": {\"text\": \"variable\"}, \"tracegroupgap\": 0}, \"template\": {\"data\": {\"bar\": [{\"error_x\": {\"color\": \"#2a3f5f\"}, \"error_y\": {\"color\": \"#2a3f5f\"}, \"marker\": {\"line\": {\"color\": \"#E5ECF6\", \"width\": 0.5}}, \"type\": \"bar\"}], \"barpolar\": [{\"marker\": {\"line\": {\"color\": \"#E5ECF6\", \"width\": 0.5}}, \"type\": \"barpolar\"}], \"carpet\": [{\"aaxis\": {\"endlinecolor\": \"#2a3f5f\", \"gridcolor\": \"white\", \"linecolor\": \"white\", \"minorgridcolor\": \"white\", \"startlinecolor\": \"#2a3f5f\"}, \"baxis\": {\"endlinecolor\": \"#2a3f5f\", \"gridcolor\": \"white\", \"linecolor\": \"white\", \"minorgridcolor\": \"white\", \"startlinecolor\": \"#2a3f5f\"}, \"type\": \"carpet\"}], \"choropleth\": [{\"colorbar\": {\"outlinewidth\": 0, \"ticks\": \"\"}, \"type\": \"choropleth\"}], \"contour\": [{\"colorbar\": {\"outlinewidth\": 0, \"ticks\": \"\"}, \"colorscale\": [[0.0, \"#0d0887\"], [0.1111111111111111, \"#46039f\"], [0.2222222222222222, \"#7201a8\"], [0.3333333333333333, \"#9c179e\"], [0.4444444444444444, \"#bd3786\"], [0.5555555555555556, \"#d8576b\"], [0.6666666666666666, \"#ed7953\"], [0.7777777777777778, \"#fb9f3a\"], [0.8888888888888888, \"#fdca26\"], [1.0, \"#f0f921\"]], \"type\": \"contour\"}], \"contourcarpet\": [{\"colorbar\": {\"outlinewidth\": 0, \"ticks\": \"\"}, \"type\": \"contourcarpet\"}], \"heatmap\": [{\"colorbar\": {\"outlinewidth\": 0, \"ticks\": \"\"}, \"colorscale\": [[0.0, \"#0d0887\"], [0.1111111111111111, \"#46039f\"], [0.2222222222222222, \"#7201a8\"], [0.3333333333333333, \"#9c179e\"], [0.4444444444444444, \"#bd3786\"], [0.5555555555555556, \"#d8576b\"], [0.6666666666666666, \"#ed7953\"], [0.7777777777777778, \"#fb9f3a\"], [0.8888888888888888, \"#fdca26\"], [1.0, \"#f0f921\"]], \"type\": \"heatmap\"}], \"heatmapgl\": [{\"colorbar\": {\"outlinewidth\": 0, \"ticks\": \"\"}, \"colorscale\": [[0.0, \"#0d0887\"], [0.1111111111111111, \"#46039f\"], [0.2222222222222222, \"#7201a8\"], [0.3333333333333333, \"#9c179e\"], [0.4444444444444444, \"#bd3786\"], [0.5555555555555556, \"#d8576b\"], [0.6666666666666666, \"#ed7953\"], [0.7777777777777778, \"#fb9f3a\"], [0.8888888888888888, \"#fdca26\"], [1.0, \"#f0f921\"]], \"type\": \"heatmapgl\"}], \"histogram\": [{\"marker\": {\"colorbar\": {\"outlinewidth\": 0, \"ticks\": \"\"}}, \"type\": \"histogram\"}], \"histogram2d\": [{\"colorbar\": {\"outlinewidth\": 0, \"ticks\": \"\"}, \"colorscale\": [[0.0, \"#0d0887\"], [0.1111111111111111, \"#46039f\"], [0.2222222222222222, \"#7201a8\"], [0.3333333333333333, \"#9c179e\"], [0.4444444444444444, \"#bd3786\"], [0.5555555555555556, \"#d8576b\"], [0.6666666666666666, \"#ed7953\"], [0.7777777777777778, \"#fb9f3a\"], [0.8888888888888888, \"#fdca26\"], [1.0, \"#f0f921\"]], \"type\": \"histogram2d\"}], \"histogram2dcontour\": [{\"colorbar\": {\"outlinewidth\": 0, \"ticks\": \"\"}, \"colorscale\": [[0.0, \"#0d0887\"], [0.1111111111111111, \"#46039f\"], [0.2222222222222222, \"#7201a8\"], [0.3333333333333333, \"#9c179e\"], [0.4444444444444444, \"#bd3786\"], [0.5555555555555556, \"#d8576b\"], [0.6666666666666666, \"#ed7953\"], [0.7777777777777778, \"#fb9f3a\"], [0.8888888888888888, \"#fdca26\"], [1.0, \"#f0f921\"]], \"type\": \"histogram2dcontour\"}], \"mesh3d\": [{\"colorbar\": {\"outlinewidth\": 0, \"ticks\": \"\"}, \"type\": \"mesh3d\"}], \"parcoords\": [{\"line\": {\"colorbar\": {\"outlinewidth\": 0, \"ticks\": \"\"}}, \"type\": \"parcoords\"}], \"pie\": [{\"automargin\": true, \"type\": \"pie\"}], \"scatter\": [{\"marker\": {\"colorbar\": {\"outlinewidth\": 0, \"ticks\": \"\"}}, \"type\": \"scatter\"}], \"scatter3d\": [{\"line\": {\"colorbar\": {\"outlinewidth\": 0, \"ticks\": \"\"}}, \"marker\": {\"colorbar\": {\"outlinewidth\": 0, \"ticks\": \"\"}}, \"type\": \"scatter3d\"}], \"scattercarpet\": [{\"marker\": {\"colorbar\": {\"outlinewidth\": 0, \"ticks\": \"\"}}, \"type\": \"scattercarpet\"}], \"scattergeo\": [{\"marker\": {\"colorbar\": {\"outlinewidth\": 0, \"ticks\": \"\"}}, \"type\": \"scattergeo\"}], \"scattergl\": [{\"marker\": {\"colorbar\": {\"outlinewidth\": 0, \"ticks\": \"\"}}, \"type\": \"scattergl\"}], \"scattermapbox\": [{\"marker\": {\"colorbar\": {\"outlinewidth\": 0, \"ticks\": \"\"}}, \"type\": \"scattermapbox\"}], \"scatterpolar\": [{\"marker\": {\"colorbar\": {\"outlinewidth\": 0, \"ticks\": \"\"}}, \"type\": \"scatterpolar\"}], \"scatterpolargl\": [{\"marker\": {\"colorbar\": {\"outlinewidth\": 0, \"ticks\": \"\"}}, \"type\": \"scatterpolargl\"}], \"scatterternary\": [{\"marker\": {\"colorbar\": {\"outlinewidth\": 0, \"ticks\": \"\"}}, \"type\": \"scatterternary\"}], \"surface\": [{\"colorbar\": {\"outlinewidth\": 0, \"ticks\": \"\"}, \"colorscale\": [[0.0, \"#0d0887\"], [0.1111111111111111, \"#46039f\"], [0.2222222222222222, \"#7201a8\"], [0.3333333333333333, \"#9c179e\"], [0.4444444444444444, \"#bd3786\"], [0.5555555555555556, \"#d8576b\"], [0.6666666666666666, \"#ed7953\"], [0.7777777777777778, \"#fb9f3a\"], [0.8888888888888888, \"#fdca26\"], [1.0, \"#f0f921\"]], \"type\": \"surface\"}], \"table\": [{\"cells\": {\"fill\": {\"color\": \"#EBF0F8\"}, \"line\": {\"color\": \"white\"}}, \"header\": {\"fill\": {\"color\": \"#C8D4E3\"}, \"line\": {\"color\": \"white\"}}, \"type\": \"table\"}]}, \"layout\": {\"annotationdefaults\": {\"arrowcolor\": \"#2a3f5f\", \"arrowhead\": 0, \"arrowwidth\": 1}, \"autotypenumbers\": \"strict\", \"coloraxis\": {\"colorbar\": {\"outlinewidth\": 0, \"ticks\": \"\"}}, \"colorscale\": {\"diverging\": [[0, \"#8e0152\"], [0.1, \"#c51b7d\"], [0.2, \"#de77ae\"], [0.3, \"#f1b6da\"], [0.4, \"#fde0ef\"], [0.5, \"#f7f7f7\"], [0.6, \"#e6f5d0\"], [0.7, \"#b8e186\"], [0.8, \"#7fbc41\"], [0.9, \"#4d9221\"], [1, \"#276419\"]], \"sequential\": [[0.0, \"#0d0887\"], [0.1111111111111111, \"#46039f\"], [0.2222222222222222, \"#7201a8\"], [0.3333333333333333, \"#9c179e\"], [0.4444444444444444, \"#bd3786\"], [0.5555555555555556, \"#d8576b\"], [0.6666666666666666, \"#ed7953\"], [0.7777777777777778, \"#fb9f3a\"], [0.8888888888888888, \"#fdca26\"], [1.0, \"#f0f921\"]], \"sequentialminus\": [[0.0, \"#0d0887\"], [0.1111111111111111, \"#46039f\"], [0.2222222222222222, \"#7201a8\"], [0.3333333333333333, \"#9c179e\"], [0.4444444444444444, \"#bd3786\"], [0.5555555555555556, \"#d8576b\"], [0.6666666666666666, \"#ed7953\"], [0.7777777777777778, \"#fb9f3a\"], [0.8888888888888888, \"#fdca26\"], [1.0, \"#f0f921\"]]}, \"colorway\": [\"#636efa\", \"#EF553B\", \"#00cc96\", \"#ab63fa\", \"#FFA15A\", \"#19d3f3\", \"#FF6692\", \"#B6E880\", \"#FF97FF\", \"#FECB52\"], \"font\": {\"color\": \"#2a3f5f\"}, \"geo\": {\"bgcolor\": \"white\", \"lakecolor\": \"white\", \"landcolor\": \"#E5ECF6\", \"showlakes\": true, \"showland\": true, \"subunitcolor\": \"white\"}, \"hoverlabel\": {\"align\": \"left\"}, \"hovermode\": \"closest\", \"mapbox\": {\"style\": \"light\"}, \"paper_bgcolor\": \"white\", \"plot_bgcolor\": \"#E5ECF6\", \"polar\": {\"angularaxis\": {\"gridcolor\": \"white\", \"linecolor\": \"white\", \"ticks\": \"\"}, \"bgcolor\": \"#E5ECF6\", \"radialaxis\": {\"gridcolor\": \"white\", \"linecolor\": \"white\", \"ticks\": \"\"}}, \"scene\": {\"xaxis\": {\"backgroundcolor\": \"#E5ECF6\", \"gridcolor\": \"white\", \"gridwidth\": 2, \"linecolor\": \"white\", \"showbackground\": true, \"ticks\": \"\", \"zerolinecolor\": \"white\"}, \"yaxis\": {\"backgroundcolor\": \"#E5ECF6\", \"gridcolor\": \"white\", \"gridwidth\": 2, \"linecolor\": \"white\", \"showbackground\": true, \"ticks\": \"\", \"zerolinecolor\": \"white\"}, \"zaxis\": {\"backgroundcolor\": \"#E5ECF6\", \"gridcolor\": \"white\", \"gridwidth\": 2, \"linecolor\": \"white\", \"showbackground\": true, \"ticks\": \"\", \"zerolinecolor\": \"white\"}}, \"shapedefaults\": {\"line\": {\"color\": \"#2a3f5f\"}}, \"ternary\": {\"aaxis\": {\"gridcolor\": \"white\", \"linecolor\": \"white\", \"ticks\": \"\"}, \"baxis\": {\"gridcolor\": \"white\", \"linecolor\": \"white\", \"ticks\": \"\"}, \"bgcolor\": \"#E5ECF6\", \"caxis\": {\"gridcolor\": \"white\", \"linecolor\": \"white\", \"ticks\": \"\"}}, \"title\": {\"x\": 0.05}, \"xaxis\": {\"automargin\": true, \"gridcolor\": \"white\", \"linecolor\": \"white\", \"ticks\": \"\", \"title\": {\"standoff\": 15}, \"zerolinecolor\": \"white\", \"zerolinewidth\": 2}, \"yaxis\": {\"automargin\": true, \"gridcolor\": \"white\", \"linecolor\": \"white\", \"ticks\": \"\", \"title\": {\"standoff\": 15}, \"zerolinecolor\": \"white\", \"zerolinewidth\": 2}}}, \"title\": {\"text\": \"Model Loss\"}, \"xaxis\": {\"anchor\": \"y\", \"domain\": [0.0, 1.0], \"title\": {\"text\": \"Epoch\"}}, \"yaxis\": {\"anchor\": \"x\", \"domain\": [0.0, 1.0], \"title\": {\"text\": \"Loss\"}}},                        {\"responsive\": true}                    ).then(function(){\n",
       "                            \n",
       "var gd = document.getElementById('2441d90a-9089-4955-87c1-76b5b90f8382');\n",
       "var x = new MutationObserver(function (mutations, observer) {{\n",
       "        var display = window.getComputedStyle(gd).display;\n",
       "        if (!display || display === 'none') {{\n",
       "            console.log([gd, 'removed!']);\n",
       "            Plotly.purge(gd);\n",
       "            observer.disconnect();\n",
       "        }}\n",
       "}});\n",
       "\n",
       "// Listen for the removal of the full notebook cells\n",
       "var notebookContainer = gd.closest('#notebook-container');\n",
       "if (notebookContainer) {{\n",
       "    x.observe(notebookContainer, {childList: true});\n",
       "}}\n",
       "\n",
       "// Listen for the clearing of the current output cell\n",
       "var outputEl = gd.closest('.output');\n",
       "if (outputEl) {{\n",
       "    x.observe(outputEl, {childList: true});\n",
       "}}\n",
       "\n",
       "                        })                };                });            </script>        </div>"
      ]
     },
     "metadata": {},
     "output_type": "display_data"
    }
   ],
   "source": [
    "history = train_history.history\n",
    "\n",
    "px.line(\n",
    "    history, \n",
    "    x=range(1, len(history['loss'])+1), \n",
    "    y=['loss', 'val_loss'], \n",
    "    title='Model Loss', \n",
    "    labels={'x': 'Epoch', 'value': 'Loss'}\n",
    ")"
   ]
  },
  {
   "cell_type": "code",
   "execution_count": 19,
   "id": "least-hardware",
   "metadata": {
    "execution": {
     "iopub.execute_input": "2021-04-19T00:33:47.188548Z",
     "iopub.status.busy": "2021-04-19T00:33:47.178690Z",
     "iopub.status.idle": "2021-04-19T00:33:47.256626Z",
     "shell.execute_reply": "2021-04-19T00:33:47.255913Z"
    },
    "papermill": {
     "duration": 2.572746,
     "end_time": "2021-04-19T00:33:47.256773",
     "exception": false,
     "start_time": "2021-04-19T00:33:44.684027",
     "status": "completed"
    },
    "tags": []
   },
   "outputs": [
    {
     "data": {
      "text/html": [
       "<div>                            <div id=\"5d711c40-3272-403d-8be0-bab73021f35b\" class=\"plotly-graph-div\" style=\"height:525px; width:100%;\"></div>            <script type=\"text/javascript\">                require([\"plotly\"], function(Plotly) {                    window.PLOTLYENV=window.PLOTLYENV || {};                                    if (document.getElementById(\"5d711c40-3272-403d-8be0-bab73021f35b\")) {                    Plotly.newPlot(                        \"5d711c40-3272-403d-8be0-bab73021f35b\",                        [{\"hovertemplate\": \"variable=accuracy<br>Epoch=%{x}<br>Accuracy=%{y}<extra></extra>\", \"legendgroup\": \"accuracy\", \"line\": {\"color\": \"#636efa\", \"dash\": \"solid\"}, \"mode\": \"lines\", \"name\": \"accuracy\", \"orientation\": \"v\", \"showlegend\": true, \"type\": \"scatter\", \"x\": [1, 2, 3, 4, 5, 6, 7, 8, 9, 10, 11, 12, 13, 14, 15, 16, 17, 18, 19, 20, 21, 22, 23, 24, 25, 26, 27, 28, 29, 30, 31, 32, 33, 34, 35, 36, 37, 38, 39, 40, 41, 42, 43, 44, 45, 46, 47, 48, 49, 50, 51, 52, 53, 54, 55, 56], \"xaxis\": \"x\", \"y\": [0.33374589681625366, 0.33877888321876526, 0.3389438986778259, 0.33440595865249634, 0.3386963903903961, 0.34884488582611084, 0.3465346693992615, 0.34834983944892883, 0.3482673466205597, 0.3530528247356415, 0.3561881184577942, 0.3639439046382904, 0.37029704451560974, 0.3673267364501953, 0.3861386179924011, 0.4007425904273987, 0.42978549003601074, 0.44405943155288696, 0.4830858111381531, 0.515099048614502, 0.5424917936325073, 0.5652640461921692, 0.589108943939209, 0.6094059348106384, 0.6233498454093933, 0.6399340033531189, 0.6523102521896362, 0.6715346574783325, 0.6945544481277466, 0.6959571242332458, 0.7091584205627441, 0.7124587893486023, 0.7327557802200317, 0.7349010109901428, 0.7454620599746704, 0.7556105852127075, 0.7597360014915466, 0.7652640342712402, 0.7684818506240845, 0.7816832065582275, 0.7814356684684753, 0.786963701248169, 0.7956271171569824, 0.8037953972816467, 0.801980197429657, 0.807013213634491, 0.821204662322998, 0.8219472169876099, 0.826072633266449, 0.8291254639625549, 0.8373762369155884, 0.8442244529724121, 0.8505775928497314, 0.8533003330230713, 0.8639439344406128, 0.8606435656547546], \"yaxis\": \"y\"}, {\"hovertemplate\": \"variable=val_accuracy<br>Epoch=%{x}<br>Accuracy=%{y}<extra></extra>\", \"legendgroup\": \"val_accuracy\", \"line\": {\"color\": \"#EF553B\", \"dash\": \"solid\"}, \"mode\": \"lines\", \"name\": \"val_accuracy\", \"orientation\": \"v\", \"showlegend\": true, \"type\": \"scatter\", \"x\": [1, 2, 3, 4, 5, 6, 7, 8, 9, 10, 11, 12, 13, 14, 15, 16, 17, 18, 19, 20, 21, 22, 23, 24, 25, 26, 27, 28, 29, 30, 31, 32, 33, 34, 35, 36, 37, 38, 39, 40, 41, 42, 43, 44, 45, 46, 47, 48, 49, 50, 51, 52, 53, 54, 55, 56], \"xaxis\": \"x\", \"y\": [0.34447193145751953, 0.35396039485931396, 0.36014848947525024, 0.349422425031662, 0.35726070404052734, 0.3535478413105011, 0.37169966101646423, 0.3667491674423218, 0.3733498156070709, 0.36839932203292847, 0.40717819333076477, 0.4137788712978363, 0.42574256658554077, 0.4438943862915039, 0.4443069100379944, 0.4929867684841156, 0.5103135108947754, 0.5478547811508179, 0.5919966697692871, 0.6134487986564636, 0.632013201713562, 0.667904257774353, 0.6745049357414246, 0.6943069100379944, 0.7029702663421631, 0.721947193145752, 0.7165841460227966, 0.7388613820075989, 0.7491748929023743, 0.7599009871482849, 0.7557755708694458, 0.7669141888618469, 0.771864652633667, 0.7797029614448547, 0.7764025926589966, 0.7838283777236938, 0.7706270217895508, 0.7920791506767273, 0.7904289960861206, 0.7875412106513977, 0.7920791506767273, 0.7920791506767273, 0.7949669361114502, 0.7896039485931396, 0.792904257774353, 0.7966171503067017, 0.792904257774353, 0.7920791506767273, 0.7916666269302368, 0.7986798286437988, 0.7933167815208435, 0.7957920432090759, 0.8040428757667542, 0.7900164723396301, 0.7945544123649597, 0.7883663177490234], \"yaxis\": \"y\"}],                        {\"legend\": {\"title\": {\"text\": \"variable\"}, \"tracegroupgap\": 0}, \"template\": {\"data\": {\"bar\": [{\"error_x\": {\"color\": \"#2a3f5f\"}, \"error_y\": {\"color\": \"#2a3f5f\"}, \"marker\": {\"line\": {\"color\": \"#E5ECF6\", \"width\": 0.5}}, \"type\": \"bar\"}], \"barpolar\": [{\"marker\": {\"line\": {\"color\": \"#E5ECF6\", \"width\": 0.5}}, \"type\": \"barpolar\"}], \"carpet\": [{\"aaxis\": {\"endlinecolor\": \"#2a3f5f\", \"gridcolor\": \"white\", \"linecolor\": \"white\", \"minorgridcolor\": \"white\", \"startlinecolor\": \"#2a3f5f\"}, \"baxis\": {\"endlinecolor\": \"#2a3f5f\", \"gridcolor\": \"white\", \"linecolor\": \"white\", \"minorgridcolor\": \"white\", \"startlinecolor\": \"#2a3f5f\"}, \"type\": \"carpet\"}], \"choropleth\": [{\"colorbar\": {\"outlinewidth\": 0, \"ticks\": \"\"}, \"type\": \"choropleth\"}], \"contour\": [{\"colorbar\": {\"outlinewidth\": 0, \"ticks\": \"\"}, \"colorscale\": [[0.0, \"#0d0887\"], [0.1111111111111111, \"#46039f\"], [0.2222222222222222, \"#7201a8\"], [0.3333333333333333, \"#9c179e\"], [0.4444444444444444, \"#bd3786\"], [0.5555555555555556, \"#d8576b\"], [0.6666666666666666, \"#ed7953\"], [0.7777777777777778, \"#fb9f3a\"], [0.8888888888888888, \"#fdca26\"], [1.0, \"#f0f921\"]], \"type\": \"contour\"}], \"contourcarpet\": [{\"colorbar\": {\"outlinewidth\": 0, \"ticks\": \"\"}, \"type\": \"contourcarpet\"}], \"heatmap\": [{\"colorbar\": {\"outlinewidth\": 0, \"ticks\": \"\"}, \"colorscale\": [[0.0, \"#0d0887\"], [0.1111111111111111, \"#46039f\"], [0.2222222222222222, \"#7201a8\"], [0.3333333333333333, \"#9c179e\"], [0.4444444444444444, \"#bd3786\"], [0.5555555555555556, \"#d8576b\"], [0.6666666666666666, \"#ed7953\"], [0.7777777777777778, \"#fb9f3a\"], [0.8888888888888888, \"#fdca26\"], [1.0, \"#f0f921\"]], \"type\": \"heatmap\"}], \"heatmapgl\": [{\"colorbar\": {\"outlinewidth\": 0, \"ticks\": \"\"}, \"colorscale\": [[0.0, \"#0d0887\"], [0.1111111111111111, \"#46039f\"], [0.2222222222222222, \"#7201a8\"], [0.3333333333333333, \"#9c179e\"], [0.4444444444444444, \"#bd3786\"], [0.5555555555555556, \"#d8576b\"], [0.6666666666666666, \"#ed7953\"], [0.7777777777777778, \"#fb9f3a\"], [0.8888888888888888, \"#fdca26\"], [1.0, \"#f0f921\"]], \"type\": \"heatmapgl\"}], \"histogram\": [{\"marker\": {\"colorbar\": {\"outlinewidth\": 0, \"ticks\": \"\"}}, \"type\": \"histogram\"}], \"histogram2d\": [{\"colorbar\": {\"outlinewidth\": 0, \"ticks\": \"\"}, \"colorscale\": [[0.0, \"#0d0887\"], [0.1111111111111111, \"#46039f\"], [0.2222222222222222, \"#7201a8\"], [0.3333333333333333, \"#9c179e\"], [0.4444444444444444, \"#bd3786\"], [0.5555555555555556, \"#d8576b\"], [0.6666666666666666, \"#ed7953\"], [0.7777777777777778, \"#fb9f3a\"], [0.8888888888888888, \"#fdca26\"], [1.0, \"#f0f921\"]], \"type\": \"histogram2d\"}], \"histogram2dcontour\": [{\"colorbar\": {\"outlinewidth\": 0, \"ticks\": \"\"}, \"colorscale\": [[0.0, \"#0d0887\"], [0.1111111111111111, \"#46039f\"], [0.2222222222222222, \"#7201a8\"], [0.3333333333333333, \"#9c179e\"], [0.4444444444444444, \"#bd3786\"], [0.5555555555555556, \"#d8576b\"], [0.6666666666666666, \"#ed7953\"], [0.7777777777777778, \"#fb9f3a\"], [0.8888888888888888, \"#fdca26\"], [1.0, \"#f0f921\"]], \"type\": \"histogram2dcontour\"}], \"mesh3d\": [{\"colorbar\": {\"outlinewidth\": 0, \"ticks\": \"\"}, \"type\": \"mesh3d\"}], \"parcoords\": [{\"line\": {\"colorbar\": {\"outlinewidth\": 0, \"ticks\": \"\"}}, \"type\": \"parcoords\"}], \"pie\": [{\"automargin\": true, \"type\": \"pie\"}], \"scatter\": [{\"marker\": {\"colorbar\": {\"outlinewidth\": 0, \"ticks\": \"\"}}, \"type\": \"scatter\"}], \"scatter3d\": [{\"line\": {\"colorbar\": {\"outlinewidth\": 0, \"ticks\": \"\"}}, \"marker\": {\"colorbar\": {\"outlinewidth\": 0, \"ticks\": \"\"}}, \"type\": \"scatter3d\"}], \"scattercarpet\": [{\"marker\": {\"colorbar\": {\"outlinewidth\": 0, \"ticks\": \"\"}}, \"type\": \"scattercarpet\"}], \"scattergeo\": [{\"marker\": {\"colorbar\": {\"outlinewidth\": 0, \"ticks\": \"\"}}, \"type\": \"scattergeo\"}], \"scattergl\": [{\"marker\": {\"colorbar\": {\"outlinewidth\": 0, \"ticks\": \"\"}}, \"type\": \"scattergl\"}], \"scattermapbox\": [{\"marker\": {\"colorbar\": {\"outlinewidth\": 0, \"ticks\": \"\"}}, \"type\": \"scattermapbox\"}], \"scatterpolar\": [{\"marker\": {\"colorbar\": {\"outlinewidth\": 0, \"ticks\": \"\"}}, \"type\": \"scatterpolar\"}], \"scatterpolargl\": [{\"marker\": {\"colorbar\": {\"outlinewidth\": 0, \"ticks\": \"\"}}, \"type\": \"scatterpolargl\"}], \"scatterternary\": [{\"marker\": {\"colorbar\": {\"outlinewidth\": 0, \"ticks\": \"\"}}, \"type\": \"scatterternary\"}], \"surface\": [{\"colorbar\": {\"outlinewidth\": 0, \"ticks\": \"\"}, \"colorscale\": [[0.0, \"#0d0887\"], [0.1111111111111111, \"#46039f\"], [0.2222222222222222, \"#7201a8\"], [0.3333333333333333, \"#9c179e\"], [0.4444444444444444, \"#bd3786\"], [0.5555555555555556, \"#d8576b\"], [0.6666666666666666, \"#ed7953\"], [0.7777777777777778, \"#fb9f3a\"], [0.8888888888888888, \"#fdca26\"], [1.0, \"#f0f921\"]], \"type\": \"surface\"}], \"table\": [{\"cells\": {\"fill\": {\"color\": \"#EBF0F8\"}, \"line\": {\"color\": \"white\"}}, \"header\": {\"fill\": {\"color\": \"#C8D4E3\"}, \"line\": {\"color\": \"white\"}}, \"type\": \"table\"}]}, \"layout\": {\"annotationdefaults\": {\"arrowcolor\": \"#2a3f5f\", \"arrowhead\": 0, \"arrowwidth\": 1}, \"autotypenumbers\": \"strict\", \"coloraxis\": {\"colorbar\": {\"outlinewidth\": 0, \"ticks\": \"\"}}, \"colorscale\": {\"diverging\": [[0, \"#8e0152\"], [0.1, \"#c51b7d\"], [0.2, \"#de77ae\"], [0.3, \"#f1b6da\"], [0.4, \"#fde0ef\"], [0.5, \"#f7f7f7\"], [0.6, \"#e6f5d0\"], [0.7, \"#b8e186\"], [0.8, \"#7fbc41\"], [0.9, \"#4d9221\"], [1, \"#276419\"]], \"sequential\": [[0.0, \"#0d0887\"], [0.1111111111111111, \"#46039f\"], [0.2222222222222222, \"#7201a8\"], [0.3333333333333333, \"#9c179e\"], [0.4444444444444444, \"#bd3786\"], [0.5555555555555556, \"#d8576b\"], [0.6666666666666666, \"#ed7953\"], [0.7777777777777778, \"#fb9f3a\"], [0.8888888888888888, \"#fdca26\"], [1.0, \"#f0f921\"]], \"sequentialminus\": [[0.0, \"#0d0887\"], [0.1111111111111111, \"#46039f\"], [0.2222222222222222, \"#7201a8\"], [0.3333333333333333, \"#9c179e\"], [0.4444444444444444, \"#bd3786\"], [0.5555555555555556, \"#d8576b\"], [0.6666666666666666, \"#ed7953\"], [0.7777777777777778, \"#fb9f3a\"], [0.8888888888888888, \"#fdca26\"], [1.0, \"#f0f921\"]]}, \"colorway\": [\"#636efa\", \"#EF553B\", \"#00cc96\", \"#ab63fa\", \"#FFA15A\", \"#19d3f3\", \"#FF6692\", \"#B6E880\", \"#FF97FF\", \"#FECB52\"], \"font\": {\"color\": \"#2a3f5f\"}, \"geo\": {\"bgcolor\": \"white\", \"lakecolor\": \"white\", \"landcolor\": \"#E5ECF6\", \"showlakes\": true, \"showland\": true, \"subunitcolor\": \"white\"}, \"hoverlabel\": {\"align\": \"left\"}, \"hovermode\": \"closest\", \"mapbox\": {\"style\": \"light\"}, \"paper_bgcolor\": \"white\", \"plot_bgcolor\": \"#E5ECF6\", \"polar\": {\"angularaxis\": {\"gridcolor\": \"white\", \"linecolor\": \"white\", \"ticks\": \"\"}, \"bgcolor\": \"#E5ECF6\", \"radialaxis\": {\"gridcolor\": \"white\", \"linecolor\": \"white\", \"ticks\": \"\"}}, \"scene\": {\"xaxis\": {\"backgroundcolor\": \"#E5ECF6\", \"gridcolor\": \"white\", \"gridwidth\": 2, \"linecolor\": \"white\", \"showbackground\": true, \"ticks\": \"\", \"zerolinecolor\": \"white\"}, \"yaxis\": {\"backgroundcolor\": \"#E5ECF6\", \"gridcolor\": \"white\", \"gridwidth\": 2, \"linecolor\": \"white\", \"showbackground\": true, \"ticks\": \"\", \"zerolinecolor\": \"white\"}, \"zaxis\": {\"backgroundcolor\": \"#E5ECF6\", \"gridcolor\": \"white\", \"gridwidth\": 2, \"linecolor\": \"white\", \"showbackground\": true, \"ticks\": \"\", \"zerolinecolor\": \"white\"}}, \"shapedefaults\": {\"line\": {\"color\": \"#2a3f5f\"}}, \"ternary\": {\"aaxis\": {\"gridcolor\": \"white\", \"linecolor\": \"white\", \"ticks\": \"\"}, \"baxis\": {\"gridcolor\": \"white\", \"linecolor\": \"white\", \"ticks\": \"\"}, \"bgcolor\": \"#E5ECF6\", \"caxis\": {\"gridcolor\": \"white\", \"linecolor\": \"white\", \"ticks\": \"\"}}, \"title\": {\"x\": 0.05}, \"xaxis\": {\"automargin\": true, \"gridcolor\": \"white\", \"linecolor\": \"white\", \"ticks\": \"\", \"title\": {\"standoff\": 15}, \"zerolinecolor\": \"white\", \"zerolinewidth\": 2}, \"yaxis\": {\"automargin\": true, \"gridcolor\": \"white\", \"linecolor\": \"white\", \"ticks\": \"\", \"title\": {\"standoff\": 15}, \"zerolinecolor\": \"white\", \"zerolinewidth\": 2}}}, \"title\": {\"text\": \"Model Accuracy\"}, \"xaxis\": {\"anchor\": \"y\", \"domain\": [0.0, 1.0], \"title\": {\"text\": \"Epoch\"}}, \"yaxis\": {\"anchor\": \"x\", \"domain\": [0.0, 1.0], \"title\": {\"text\": \"Accuracy\"}}},                        {\"responsive\": true}                    ).then(function(){\n",
       "                            \n",
       "var gd = document.getElementById('5d711c40-3272-403d-8be0-bab73021f35b');\n",
       "var x = new MutationObserver(function (mutations, observer) {{\n",
       "        var display = window.getComputedStyle(gd).display;\n",
       "        if (!display || display === 'none') {{\n",
       "            console.log([gd, 'removed!']);\n",
       "            Plotly.purge(gd);\n",
       "            observer.disconnect();\n",
       "        }}\n",
       "}});\n",
       "\n",
       "// Listen for the removal of the full notebook cells\n",
       "var notebookContainer = gd.closest('#notebook-container');\n",
       "if (notebookContainer) {{\n",
       "    x.observe(notebookContainer, {childList: true});\n",
       "}}\n",
       "\n",
       "// Listen for the clearing of the current output cell\n",
       "var outputEl = gd.closest('.output');\n",
       "if (outputEl) {{\n",
       "    x.observe(outputEl, {childList: true});\n",
       "}}\n",
       "\n",
       "                        })                };                });            </script>        </div>"
      ]
     },
     "metadata": {},
     "output_type": "display_data"
    }
   ],
   "source": [
    "px.line(\n",
    "    history, \n",
    "    x=range(1, len(history['loss'])+1), \n",
    "    y=['accuracy', 'val_accuracy'], \n",
    "    title='Model Accuracy', \n",
    "    labels={'x': 'Epoch', 'value': 'Accuracy'}\n",
    ")"
   ]
  },
  {
   "cell_type": "markdown",
   "id": "touched-atlanta",
   "metadata": {
    "papermill": {
     "duration": 2.412899,
     "end_time": "2021-04-19T00:33:52.082479",
     "exception": false,
     "start_time": "2021-04-19T00:33:49.669580",
     "status": "completed"
    },
    "tags": []
   },
   "source": [
    "# Test Predictions\n",
    "We make predictions on the test dataset to submit to the competition.\n",
    "\n",
    "대회에 제출하기 위해 시험 데이터셋을 모델에 입력해서 예측값들을 얻어냅니다."
   ]
  },
  {
   "cell_type": "code",
   "execution_count": 20,
   "id": "spare-tactics",
   "metadata": {
    "execution": {
     "iopub.execute_input": "2021-04-19T00:33:57.071588Z",
     "iopub.status.busy": "2021-04-19T00:33:57.070709Z",
     "iopub.status.idle": "2021-04-19T00:34:33.439158Z",
     "shell.execute_reply": "2021-04-19T00:34:33.439719Z"
    },
    "papermill": {
     "duration": 38.839669,
     "end_time": "2021-04-19T00:34:33.439900",
     "exception": false,
     "start_time": "2021-04-19T00:33:54.600231",
     "status": "completed"
    },
    "tags": []
   },
   "outputs": [
    {
     "name": "stdout",
     "output_type": "stream",
     "text": [
      "41/41 [==============================] - 34s 610ms/step\n"
     ]
    }
   ],
   "source": [
    "test_preds = model.predict(test_dataset, verbose=1)\n",
    "submission_df['prediction'] = test_preds.argmax(axis=1)\n",
    "submission_df.head()\n",
    "submission_df.to_csv('submission.csv', index=False)"
   ]
  }
 ],
 "metadata": {
  "kernelspec": {
   "display_name": "Python 3",
   "language": "python",
   "name": "python3"
  },
  "language_info": {
   "codemirror_mode": {
    "name": "ipython",
    "version": 3
   },
   "file_extension": ".py",
   "mimetype": "text/x-python",
   "name": "python",
   "nbconvert_exporter": "python",
   "pygments_lexer": "ipython3",
   "version": "3.7.9"
  },
  "papermill": {
   "default_parameters": {},
   "duration": 2671.87057,
   "end_time": "2021-04-19T00:34:41.114397",
   "environment_variables": {},
   "exception": null,
   "input_path": "__notebook__.ipynb",
   "output_path": "__notebook__.ipynb",
   "parameters": {},
   "start_time": "2021-04-18T23:50:09.243827",
   "version": "2.3.2"
  },
  "widgets": {
   "application/vnd.jupyter.widget-state+json": {
    "state": {
     "00be8f8e1d0c41328c065abed3ef790a": {
      "model_module": "@jupyter-widgets/base",
      "model_module_version": "1.2.0",
      "model_name": "LayoutModel",
      "state": {
       "_model_module": "@jupyter-widgets/base",
       "_model_module_version": "1.2.0",
       "_model_name": "LayoutModel",
       "_view_count": null,
       "_view_module": "@jupyter-widgets/base",
       "_view_module_version": "1.2.0",
       "_view_name": "LayoutView",
       "align_content": null,
       "align_items": null,
       "align_self": null,
       "border": null,
       "bottom": null,
       "display": null,
       "flex": null,
       "flex_flow": null,
       "grid_area": null,
       "grid_auto_columns": null,
       "grid_auto_flow": null,
       "grid_auto_rows": null,
       "grid_column": null,
       "grid_gap": null,
       "grid_row": null,
       "grid_template_areas": null,
       "grid_template_columns": null,
       "grid_template_rows": null,
       "height": null,
       "justify_content": null,
       "justify_items": null,
       "left": null,
       "margin": null,
       "max_height": null,
       "max_width": null,
       "min_height": null,
       "min_width": null,
       "object_fit": null,
       "object_position": null,
       "order": null,
       "overflow": null,
       "overflow_x": null,
       "overflow_y": null,
       "padding": null,
       "right": null,
       "top": null,
       "visibility": null,
       "width": null
      }
     },
     "022ebc7235ab4f369bc5ce786a0c20fe": {
      "model_module": "@jupyter-widgets/controls",
      "model_module_version": "1.5.0",
      "model_name": "ProgressStyleModel",
      "state": {
       "_model_module": "@jupyter-widgets/controls",
       "_model_module_version": "1.5.0",
       "_model_name": "ProgressStyleModel",
       "_view_count": null,
       "_view_module": "@jupyter-widgets/base",
       "_view_module_version": "1.2.0",
       "_view_name": "StyleView",
       "bar_color": null,
       "description_width": ""
      }
     },
     "0770d71f4337454d8b584f48199bbd2d": {
      "model_module": "@jupyter-widgets/base",
      "model_module_version": "1.2.0",
      "model_name": "LayoutModel",
      "state": {
       "_model_module": "@jupyter-widgets/base",
       "_model_module_version": "1.2.0",
       "_model_name": "LayoutModel",
       "_view_count": null,
       "_view_module": "@jupyter-widgets/base",
       "_view_module_version": "1.2.0",
       "_view_name": "LayoutView",
       "align_content": null,
       "align_items": null,
       "align_self": null,
       "border": null,
       "bottom": null,
       "display": null,
       "flex": null,
       "flex_flow": null,
       "grid_area": null,
       "grid_auto_columns": null,
       "grid_auto_flow": null,
       "grid_auto_rows": null,
       "grid_column": null,
       "grid_gap": null,
       "grid_row": null,
       "grid_template_areas": null,
       "grid_template_columns": null,
       "grid_template_rows": null,
       "height": null,
       "justify_content": null,
       "justify_items": null,
       "left": null,
       "margin": null,
       "max_height": null,
       "max_width": null,
       "min_height": null,
       "min_width": null,
       "object_fit": null,
       "object_position": null,
       "order": null,
       "overflow": null,
       "overflow_x": null,
       "overflow_y": null,
       "padding": null,
       "right": null,
       "top": null,
       "visibility": null,
       "width": null
      }
     },
     "0c70070f3f4845878bb8b7d4139b67bc": {
      "model_module": "@jupyter-widgets/controls",
      "model_module_version": "1.5.0",
      "model_name": "HTMLModel",
      "state": {
       "_dom_classes": [],
       "_model_module": "@jupyter-widgets/controls",
       "_model_module_version": "1.5.0",
       "_model_name": "HTMLModel",
       "_view_count": null,
       "_view_module": "@jupyter-widgets/controls",
       "_view_module_version": "1.5.0",
       "_view_name": "HTMLView",
       "description": "",
       "description_tooltip": null,
       "layout": "IPY_MODEL_00be8f8e1d0c41328c065abed3ef790a",
       "placeholder": "​",
       "style": "IPY_MODEL_fc99f43aa3d94bc099fa12e6af3fd0ab",
       "value": "Downloading: 100%"
      }
     },
     "19ac6af7c037449ebbb7f7f73013588f": {
      "model_module": "@jupyter-widgets/controls",
      "model_module_version": "1.5.0",
      "model_name": "DescriptionStyleModel",
      "state": {
       "_model_module": "@jupyter-widgets/controls",
       "_model_module_version": "1.5.0",
       "_model_name": "DescriptionStyleModel",
       "_view_count": null,
       "_view_module": "@jupyter-widgets/base",
       "_view_module_version": "1.2.0",
       "_view_name": "StyleView",
       "description_width": ""
      }
     },
     "1f7f5d38136746c3981666842b60d7ce": {
      "model_module": "@jupyter-widgets/controls",
      "model_module_version": "1.5.0",
      "model_name": "ProgressStyleModel",
      "state": {
       "_model_module": "@jupyter-widgets/controls",
       "_model_module_version": "1.5.0",
       "_model_name": "ProgressStyleModel",
       "_view_count": null,
       "_view_module": "@jupyter-widgets/base",
       "_view_module_version": "1.2.0",
       "_view_name": "StyleView",
       "bar_color": null,
       "description_width": ""
      }
     },
     "291498a9e8124bcb985c6c6b7226f8b2": {
      "model_module": "@jupyter-widgets/base",
      "model_module_version": "1.2.0",
      "model_name": "LayoutModel",
      "state": {
       "_model_module": "@jupyter-widgets/base",
       "_model_module_version": "1.2.0",
       "_model_name": "LayoutModel",
       "_view_count": null,
       "_view_module": "@jupyter-widgets/base",
       "_view_module_version": "1.2.0",
       "_view_name": "LayoutView",
       "align_content": null,
       "align_items": null,
       "align_self": null,
       "border": null,
       "bottom": null,
       "display": null,
       "flex": null,
       "flex_flow": null,
       "grid_area": null,
       "grid_auto_columns": null,
       "grid_auto_flow": null,
       "grid_auto_rows": null,
       "grid_column": null,
       "grid_gap": null,
       "grid_row": null,
       "grid_template_areas": null,
       "grid_template_columns": null,
       "grid_template_rows": null,
       "height": null,
       "justify_content": null,
       "justify_items": null,
       "left": null,
       "margin": null,
       "max_height": null,
       "max_width": null,
       "min_height": null,
       "min_width": null,
       "object_fit": null,
       "object_position": null,
       "order": null,
       "overflow": null,
       "overflow_x": null,
       "overflow_y": null,
       "padding": null,
       "right": null,
       "top": null,
       "visibility": null,
       "width": null
      }
     },
     "2edd80e82de148e6a15e6ed44cf194eb": {
      "model_module": "@jupyter-widgets/controls",
      "model_module_version": "1.5.0",
      "model_name": "HTMLModel",
      "state": {
       "_dom_classes": [],
       "_model_module": "@jupyter-widgets/controls",
       "_model_module_version": "1.5.0",
       "_model_name": "HTMLModel",
       "_view_count": null,
       "_view_module": "@jupyter-widgets/controls",
       "_view_module_version": "1.5.0",
       "_view_name": "HTMLView",
       "description": "",
       "description_tooltip": null,
       "layout": "IPY_MODEL_39e3de802e86420f9365a01a7f64e6da",
       "placeholder": "​",
       "style": "IPY_MODEL_e5dbe69e06d042ac9cb58ed96ea6a672",
       "value": "Downloading: 100%"
      }
     },
     "39e3de802e86420f9365a01a7f64e6da": {
      "model_module": "@jupyter-widgets/base",
      "model_module_version": "1.2.0",
      "model_name": "LayoutModel",
      "state": {
       "_model_module": "@jupyter-widgets/base",
       "_model_module_version": "1.2.0",
       "_model_name": "LayoutModel",
       "_view_count": null,
       "_view_module": "@jupyter-widgets/base",
       "_view_module_version": "1.2.0",
       "_view_name": "LayoutView",
       "align_content": null,
       "align_items": null,
       "align_self": null,
       "border": null,
       "bottom": null,
       "display": null,
       "flex": null,
       "flex_flow": null,
       "grid_area": null,
       "grid_auto_columns": null,
       "grid_auto_flow": null,
       "grid_auto_rows": null,
       "grid_column": null,
       "grid_gap": null,
       "grid_row": null,
       "grid_template_areas": null,
       "grid_template_columns": null,
       "grid_template_rows": null,
       "height": null,
       "justify_content": null,
       "justify_items": null,
       "left": null,
       "margin": null,
       "max_height": null,
       "max_width": null,
       "min_height": null,
       "min_width": null,
       "object_fit": null,
       "object_position": null,
       "order": null,
       "overflow": null,
       "overflow_x": null,
       "overflow_y": null,
       "padding": null,
       "right": null,
       "top": null,
       "visibility": null,
       "width": null
      }
     },
     "40130dd751fa4e75b94e0bcae16576d2": {
      "model_module": "@jupyter-widgets/base",
      "model_module_version": "1.2.0",
      "model_name": "LayoutModel",
      "state": {
       "_model_module": "@jupyter-widgets/base",
       "_model_module_version": "1.2.0",
       "_model_name": "LayoutModel",
       "_view_count": null,
       "_view_module": "@jupyter-widgets/base",
       "_view_module_version": "1.2.0",
       "_view_name": "LayoutView",
       "align_content": null,
       "align_items": null,
       "align_self": null,
       "border": null,
       "bottom": null,
       "display": null,
       "flex": null,
       "flex_flow": null,
       "grid_area": null,
       "grid_auto_columns": null,
       "grid_auto_flow": null,
       "grid_auto_rows": null,
       "grid_column": null,
       "grid_gap": null,
       "grid_row": null,
       "grid_template_areas": null,
       "grid_template_columns": null,
       "grid_template_rows": null,
       "height": null,
       "justify_content": null,
       "justify_items": null,
       "left": null,
       "margin": null,
       "max_height": null,
       "max_width": null,
       "min_height": null,
       "min_width": null,
       "object_fit": null,
       "object_position": null,
       "order": null,
       "overflow": null,
       "overflow_x": null,
       "overflow_y": null,
       "padding": null,
       "right": null,
       "top": null,
       "visibility": null,
       "width": null
      }
     },
     "444cd980153f43cb8971aea7dbe84bcb": {
      "model_module": "@jupyter-widgets/base",
      "model_module_version": "1.2.0",
      "model_name": "LayoutModel",
      "state": {
       "_model_module": "@jupyter-widgets/base",
       "_model_module_version": "1.2.0",
       "_model_name": "LayoutModel",
       "_view_count": null,
       "_view_module": "@jupyter-widgets/base",
       "_view_module_version": "1.2.0",
       "_view_name": "LayoutView",
       "align_content": null,
       "align_items": null,
       "align_self": null,
       "border": null,
       "bottom": null,
       "display": null,
       "flex": null,
       "flex_flow": null,
       "grid_area": null,
       "grid_auto_columns": null,
       "grid_auto_flow": null,
       "grid_auto_rows": null,
       "grid_column": null,
       "grid_gap": null,
       "grid_row": null,
       "grid_template_areas": null,
       "grid_template_columns": null,
       "grid_template_rows": null,
       "height": null,
       "justify_content": null,
       "justify_items": null,
       "left": null,
       "margin": null,
       "max_height": null,
       "max_width": null,
       "min_height": null,
       "min_width": null,
       "object_fit": null,
       "object_position": null,
       "order": null,
       "overflow": null,
       "overflow_x": null,
       "overflow_y": null,
       "padding": null,
       "right": null,
       "top": null,
       "visibility": null,
       "width": null
      }
     },
     "651f6d3b97694457935622a03f55ba7d": {
      "model_module": "@jupyter-widgets/controls",
      "model_module_version": "1.5.0",
      "model_name": "HTMLModel",
      "state": {
       "_dom_classes": [],
       "_model_module": "@jupyter-widgets/controls",
       "_model_module_version": "1.5.0",
       "_model_name": "HTMLModel",
       "_view_count": null,
       "_view_module": "@jupyter-widgets/controls",
       "_view_module_version": "1.5.0",
       "_view_name": "HTMLView",
       "description": "",
       "description_tooltip": null,
       "layout": "IPY_MODEL_0770d71f4337454d8b584f48199bbd2d",
       "placeholder": "​",
       "style": "IPY_MODEL_bc62f913fa654877821170635ef862a3",
       "value": " 5.07M/5.07M [00:00&lt;00:00, 8.56MB/s]"
      }
     },
     "6b81e05f313748c9a062a0e3be4413c2": {
      "model_module": "@jupyter-widgets/controls",
      "model_module_version": "1.5.0",
      "model_name": "HTMLModel",
      "state": {
       "_dom_classes": [],
       "_model_module": "@jupyter-widgets/controls",
       "_model_module_version": "1.5.0",
       "_model_name": "HTMLModel",
       "_view_count": null,
       "_view_module": "@jupyter-widgets/controls",
       "_view_module_version": "1.5.0",
       "_view_name": "HTMLView",
       "description": "",
       "description_tooltip": null,
       "layout": "IPY_MODEL_bd56e123da254fcf9a9ff90f72a7d5c7",
       "placeholder": "​",
       "style": "IPY_MODEL_f71098be5e8c4bc4909ce18f03479da8",
       "value": " 513/513 [00:00&lt;00:00, 15.8kB/s]"
      }
     },
     "6f0c5b6bccdd48e992f75a1cf8debbc5": {
      "model_module": "@jupyter-widgets/controls",
      "model_module_version": "1.5.0",
      "model_name": "HBoxModel",
      "state": {
       "_dom_classes": [],
       "_model_module": "@jupyter-widgets/controls",
       "_model_module_version": "1.5.0",
       "_model_name": "HBoxModel",
       "_view_count": null,
       "_view_module": "@jupyter-widgets/controls",
       "_view_module_version": "1.5.0",
       "_view_name": "HBoxView",
       "box_style": "",
       "children": [
        "IPY_MODEL_b4b40c1743ac4c56986136c2b2895511",
        "IPY_MODEL_9fb61150c9f149f48cdc24489ab1a002",
        "IPY_MODEL_770ca23e73414835a5562b2d76fb301b"
       ],
       "layout": "IPY_MODEL_e3faeaf8759744ba8a0960feb3880feb"
      }
     },
     "770ca23e73414835a5562b2d76fb301b": {
      "model_module": "@jupyter-widgets/controls",
      "model_module_version": "1.5.0",
      "model_name": "HTMLModel",
      "state": {
       "_dom_classes": [],
       "_model_module": "@jupyter-widgets/controls",
       "_model_module_version": "1.5.0",
       "_model_name": "HTMLModel",
       "_view_count": null,
       "_view_module": "@jupyter-widgets/controls",
       "_view_module_version": "1.5.0",
       "_view_name": "HTMLView",
       "description": "",
       "description_tooltip": null,
       "layout": "IPY_MODEL_efe2867b4e854acd8750abb3fe539005",
       "placeholder": "​",
       "style": "IPY_MODEL_19ac6af7c037449ebbb7f7f73013588f",
       "value": " 3.27G/3.27G [01:57&lt;00:00, 28.4MB/s]"
      }
     },
     "872734d4d87e4274b66aa42a9c4ec16f": {
      "model_module": "@jupyter-widgets/base",
      "model_module_version": "1.2.0",
      "model_name": "LayoutModel",
      "state": {
       "_model_module": "@jupyter-widgets/base",
       "_model_module_version": "1.2.0",
       "_model_name": "LayoutModel",
       "_view_count": null,
       "_view_module": "@jupyter-widgets/base",
       "_view_module_version": "1.2.0",
       "_view_name": "LayoutView",
       "align_content": null,
       "align_items": null,
       "align_self": null,
       "border": null,
       "bottom": null,
       "display": null,
       "flex": null,
       "flex_flow": null,
       "grid_area": null,
       "grid_auto_columns": null,
       "grid_auto_flow": null,
       "grid_auto_rows": null,
       "grid_column": null,
       "grid_gap": null,
       "grid_row": null,
       "grid_template_areas": null,
       "grid_template_columns": null,
       "grid_template_rows": null,
       "height": null,
       "justify_content": null,
       "justify_items": null,
       "left": null,
       "margin": null,
       "max_height": null,
       "max_width": null,
       "min_height": null,
       "min_width": null,
       "object_fit": null,
       "object_position": null,
       "order": null,
       "overflow": null,
       "overflow_x": null,
       "overflow_y": null,
       "padding": null,
       "right": null,
       "top": null,
       "visibility": null,
       "width": null
      }
     },
     "965f5d1671af48f7a84b3a6f262ab1ce": {
      "model_module": "@jupyter-widgets/base",
      "model_module_version": "1.2.0",
      "model_name": "LayoutModel",
      "state": {
       "_model_module": "@jupyter-widgets/base",
       "_model_module_version": "1.2.0",
       "_model_name": "LayoutModel",
       "_view_count": null,
       "_view_module": "@jupyter-widgets/base",
       "_view_module_version": "1.2.0",
       "_view_name": "LayoutView",
       "align_content": null,
       "align_items": null,
       "align_self": null,
       "border": null,
       "bottom": null,
       "display": null,
       "flex": null,
       "flex_flow": null,
       "grid_area": null,
       "grid_auto_columns": null,
       "grid_auto_flow": null,
       "grid_auto_rows": null,
       "grid_column": null,
       "grid_gap": null,
       "grid_row": null,
       "grid_template_areas": null,
       "grid_template_columns": null,
       "grid_template_rows": null,
       "height": null,
       "justify_content": null,
       "justify_items": null,
       "left": null,
       "margin": null,
       "max_height": null,
       "max_width": null,
       "min_height": null,
       "min_width": null,
       "object_fit": null,
       "object_position": null,
       "order": null,
       "overflow": null,
       "overflow_x": null,
       "overflow_y": null,
       "padding": null,
       "right": null,
       "top": null,
       "visibility": null,
       "width": null
      }
     },
     "9fb61150c9f149f48cdc24489ab1a002": {
      "model_module": "@jupyter-widgets/controls",
      "model_module_version": "1.5.0",
      "model_name": "FloatProgressModel",
      "state": {
       "_dom_classes": [],
       "_model_module": "@jupyter-widgets/controls",
       "_model_module_version": "1.5.0",
       "_model_name": "FloatProgressModel",
       "_view_count": null,
       "_view_module": "@jupyter-widgets/controls",
       "_view_module_version": "1.5.0",
       "_view_name": "ProgressView",
       "bar_style": "success",
       "description": "",
       "description_tooltip": null,
       "layout": "IPY_MODEL_444cd980153f43cb8971aea7dbe84bcb",
       "max": 3271420488.0,
       "min": 0.0,
       "orientation": "horizontal",
       "style": "IPY_MODEL_f67600939dba4ac0b76be477435a983b",
       "value": 3271420488.0
      }
     },
     "a16fbb47ef3b4bb89dac9c995e9a8e56": {
      "model_module": "@jupyter-widgets/base",
      "model_module_version": "1.2.0",
      "model_name": "LayoutModel",
      "state": {
       "_model_module": "@jupyter-widgets/base",
       "_model_module_version": "1.2.0",
       "_model_name": "LayoutModel",
       "_view_count": null,
       "_view_module": "@jupyter-widgets/base",
       "_view_module_version": "1.2.0",
       "_view_name": "LayoutView",
       "align_content": null,
       "align_items": null,
       "align_self": null,
       "border": null,
       "bottom": null,
       "display": null,
       "flex": null,
       "flex_flow": null,
       "grid_area": null,
       "grid_auto_columns": null,
       "grid_auto_flow": null,
       "grid_auto_rows": null,
       "grid_column": null,
       "grid_gap": null,
       "grid_row": null,
       "grid_template_areas": null,
       "grid_template_columns": null,
       "grid_template_rows": null,
       "height": null,
       "justify_content": null,
       "justify_items": null,
       "left": null,
       "margin": null,
       "max_height": null,
       "max_width": null,
       "min_height": null,
       "min_width": null,
       "object_fit": null,
       "object_position": null,
       "order": null,
       "overflow": null,
       "overflow_x": null,
       "overflow_y": null,
       "padding": null,
       "right": null,
       "top": null,
       "visibility": null,
       "width": null
      }
     },
     "b4b40c1743ac4c56986136c2b2895511": {
      "model_module": "@jupyter-widgets/controls",
      "model_module_version": "1.5.0",
      "model_name": "HTMLModel",
      "state": {
       "_dom_classes": [],
       "_model_module": "@jupyter-widgets/controls",
       "_model_module_version": "1.5.0",
       "_model_name": "HTMLModel",
       "_view_count": null,
       "_view_module": "@jupyter-widgets/controls",
       "_view_module_version": "1.5.0",
       "_view_name": "HTMLView",
       "description": "",
       "description_tooltip": null,
       "layout": "IPY_MODEL_40130dd751fa4e75b94e0bcae16576d2",
       "placeholder": "​",
       "style": "IPY_MODEL_b993e4ef919849e598339d22df913d3a",
       "value": "Downloading: 100%"
      }
     },
     "b9744e82b6e64870b9411cd61979b9de": {
      "model_module": "@jupyter-widgets/controls",
      "model_module_version": "1.5.0",
      "model_name": "FloatProgressModel",
      "state": {
       "_dom_classes": [],
       "_model_module": "@jupyter-widgets/controls",
       "_model_module_version": "1.5.0",
       "_model_name": "FloatProgressModel",
       "_view_count": null,
       "_view_module": "@jupyter-widgets/controls",
       "_view_module_version": "1.5.0",
       "_view_name": "ProgressView",
       "bar_style": "success",
       "description": "",
       "description_tooltip": null,
       "layout": "IPY_MODEL_a16fbb47ef3b4bb89dac9c995e9a8e56",
       "max": 513.0,
       "min": 0.0,
       "orientation": "horizontal",
       "style": "IPY_MODEL_1f7f5d38136746c3981666842b60d7ce",
       "value": 513.0
      }
     },
     "b993e4ef919849e598339d22df913d3a": {
      "model_module": "@jupyter-widgets/controls",
      "model_module_version": "1.5.0",
      "model_name": "DescriptionStyleModel",
      "state": {
       "_model_module": "@jupyter-widgets/controls",
       "_model_module_version": "1.5.0",
       "_model_name": "DescriptionStyleModel",
       "_view_count": null,
       "_view_module": "@jupyter-widgets/base",
       "_view_module_version": "1.2.0",
       "_view_name": "StyleView",
       "description_width": ""
      }
     },
     "bc62f913fa654877821170635ef862a3": {
      "model_module": "@jupyter-widgets/controls",
      "model_module_version": "1.5.0",
      "model_name": "DescriptionStyleModel",
      "state": {
       "_model_module": "@jupyter-widgets/controls",
       "_model_module_version": "1.5.0",
       "_model_name": "DescriptionStyleModel",
       "_view_count": null,
       "_view_module": "@jupyter-widgets/base",
       "_view_module_version": "1.2.0",
       "_view_name": "StyleView",
       "description_width": ""
      }
     },
     "bd56e123da254fcf9a9ff90f72a7d5c7": {
      "model_module": "@jupyter-widgets/base",
      "model_module_version": "1.2.0",
      "model_name": "LayoutModel",
      "state": {
       "_model_module": "@jupyter-widgets/base",
       "_model_module_version": "1.2.0",
       "_model_name": "LayoutModel",
       "_view_count": null,
       "_view_module": "@jupyter-widgets/base",
       "_view_module_version": "1.2.0",
       "_view_name": "LayoutView",
       "align_content": null,
       "align_items": null,
       "align_self": null,
       "border": null,
       "bottom": null,
       "display": null,
       "flex": null,
       "flex_flow": null,
       "grid_area": null,
       "grid_auto_columns": null,
       "grid_auto_flow": null,
       "grid_auto_rows": null,
       "grid_column": null,
       "grid_gap": null,
       "grid_row": null,
       "grid_template_areas": null,
       "grid_template_columns": null,
       "grid_template_rows": null,
       "height": null,
       "justify_content": null,
       "justify_items": null,
       "left": null,
       "margin": null,
       "max_height": null,
       "max_width": null,
       "min_height": null,
       "min_width": null,
       "object_fit": null,
       "object_position": null,
       "order": null,
       "overflow": null,
       "overflow_x": null,
       "overflow_y": null,
       "padding": null,
       "right": null,
       "top": null,
       "visibility": null,
       "width": null
      }
     },
     "d83dd0af32b847aab0680774d2d5216f": {
      "model_module": "@jupyter-widgets/controls",
      "model_module_version": "1.5.0",
      "model_name": "HBoxModel",
      "state": {
       "_dom_classes": [],
       "_model_module": "@jupyter-widgets/controls",
       "_model_module_version": "1.5.0",
       "_model_name": "HBoxModel",
       "_view_count": null,
       "_view_module": "@jupyter-widgets/controls",
       "_view_module_version": "1.5.0",
       "_view_name": "HBoxView",
       "box_style": "",
       "children": [
        "IPY_MODEL_2edd80e82de148e6a15e6ed44cf194eb",
        "IPY_MODEL_f3ac8d8de8b044d4833d6778d27b293d",
        "IPY_MODEL_651f6d3b97694457935622a03f55ba7d"
       ],
       "layout": "IPY_MODEL_291498a9e8124bcb985c6c6b7226f8b2"
      }
     },
     "e3faeaf8759744ba8a0960feb3880feb": {
      "model_module": "@jupyter-widgets/base",
      "model_module_version": "1.2.0",
      "model_name": "LayoutModel",
      "state": {
       "_model_module": "@jupyter-widgets/base",
       "_model_module_version": "1.2.0",
       "_model_name": "LayoutModel",
       "_view_count": null,
       "_view_module": "@jupyter-widgets/base",
       "_view_module_version": "1.2.0",
       "_view_name": "LayoutView",
       "align_content": null,
       "align_items": null,
       "align_self": null,
       "border": null,
       "bottom": null,
       "display": null,
       "flex": null,
       "flex_flow": null,
       "grid_area": null,
       "grid_auto_columns": null,
       "grid_auto_flow": null,
       "grid_auto_rows": null,
       "grid_column": null,
       "grid_gap": null,
       "grid_row": null,
       "grid_template_areas": null,
       "grid_template_columns": null,
       "grid_template_rows": null,
       "height": null,
       "justify_content": null,
       "justify_items": null,
       "left": null,
       "margin": null,
       "max_height": null,
       "max_width": null,
       "min_height": null,
       "min_width": null,
       "object_fit": null,
       "object_position": null,
       "order": null,
       "overflow": null,
       "overflow_x": null,
       "overflow_y": null,
       "padding": null,
       "right": null,
       "top": null,
       "visibility": null,
       "width": null
      }
     },
     "e5dbe69e06d042ac9cb58ed96ea6a672": {
      "model_module": "@jupyter-widgets/controls",
      "model_module_version": "1.5.0",
      "model_name": "DescriptionStyleModel",
      "state": {
       "_model_module": "@jupyter-widgets/controls",
       "_model_module_version": "1.5.0",
       "_model_name": "DescriptionStyleModel",
       "_view_count": null,
       "_view_module": "@jupyter-widgets/base",
       "_view_module_version": "1.2.0",
       "_view_name": "StyleView",
       "description_width": ""
      }
     },
     "efe2867b4e854acd8750abb3fe539005": {
      "model_module": "@jupyter-widgets/base",
      "model_module_version": "1.2.0",
      "model_name": "LayoutModel",
      "state": {
       "_model_module": "@jupyter-widgets/base",
       "_model_module_version": "1.2.0",
       "_model_name": "LayoutModel",
       "_view_count": null,
       "_view_module": "@jupyter-widgets/base",
       "_view_module_version": "1.2.0",
       "_view_name": "LayoutView",
       "align_content": null,
       "align_items": null,
       "align_self": null,
       "border": null,
       "bottom": null,
       "display": null,
       "flex": null,
       "flex_flow": null,
       "grid_area": null,
       "grid_auto_columns": null,
       "grid_auto_flow": null,
       "grid_auto_rows": null,
       "grid_column": null,
       "grid_gap": null,
       "grid_row": null,
       "grid_template_areas": null,
       "grid_template_columns": null,
       "grid_template_rows": null,
       "height": null,
       "justify_content": null,
       "justify_items": null,
       "left": null,
       "margin": null,
       "max_height": null,
       "max_width": null,
       "min_height": null,
       "min_width": null,
       "object_fit": null,
       "object_position": null,
       "order": null,
       "overflow": null,
       "overflow_x": null,
       "overflow_y": null,
       "padding": null,
       "right": null,
       "top": null,
       "visibility": null,
       "width": null
      }
     },
     "f3ac8d8de8b044d4833d6778d27b293d": {
      "model_module": "@jupyter-widgets/controls",
      "model_module_version": "1.5.0",
      "model_name": "FloatProgressModel",
      "state": {
       "_dom_classes": [],
       "_model_module": "@jupyter-widgets/controls",
       "_model_module_version": "1.5.0",
       "_model_name": "FloatProgressModel",
       "_view_count": null,
       "_view_module": "@jupyter-widgets/controls",
       "_view_module_version": "1.5.0",
       "_view_name": "ProgressView",
       "bar_style": "success",
       "description": "",
       "description_tooltip": null,
       "layout": "IPY_MODEL_872734d4d87e4274b66aa42a9c4ec16f",
       "max": 5069051.0,
       "min": 0.0,
       "orientation": "horizontal",
       "style": "IPY_MODEL_022ebc7235ab4f369bc5ce786a0c20fe",
       "value": 5069051.0
      }
     },
     "f67600939dba4ac0b76be477435a983b": {
      "model_module": "@jupyter-widgets/controls",
      "model_module_version": "1.5.0",
      "model_name": "ProgressStyleModel",
      "state": {
       "_model_module": "@jupyter-widgets/controls",
       "_model_module_version": "1.5.0",
       "_model_name": "ProgressStyleModel",
       "_view_count": null,
       "_view_module": "@jupyter-widgets/base",
       "_view_module_version": "1.2.0",
       "_view_name": "StyleView",
       "bar_color": null,
       "description_width": ""
      }
     },
     "f71098be5e8c4bc4909ce18f03479da8": {
      "model_module": "@jupyter-widgets/controls",
      "model_module_version": "1.5.0",
      "model_name": "DescriptionStyleModel",
      "state": {
       "_model_module": "@jupyter-widgets/controls",
       "_model_module_version": "1.5.0",
       "_model_name": "DescriptionStyleModel",
       "_view_count": null,
       "_view_module": "@jupyter-widgets/base",
       "_view_module_version": "1.2.0",
       "_view_name": "StyleView",
       "description_width": ""
      }
     },
     "f834df6793d842b6921d9fc28f67bbfe": {
      "model_module": "@jupyter-widgets/controls",
      "model_module_version": "1.5.0",
      "model_name": "HBoxModel",
      "state": {
       "_dom_classes": [],
       "_model_module": "@jupyter-widgets/controls",
       "_model_module_version": "1.5.0",
       "_model_name": "HBoxModel",
       "_view_count": null,
       "_view_module": "@jupyter-widgets/controls",
       "_view_module_version": "1.5.0",
       "_view_name": "HBoxView",
       "box_style": "",
       "children": [
        "IPY_MODEL_0c70070f3f4845878bb8b7d4139b67bc",
        "IPY_MODEL_b9744e82b6e64870b9411cd61979b9de",
        "IPY_MODEL_6b81e05f313748c9a062a0e3be4413c2"
       ],
       "layout": "IPY_MODEL_965f5d1671af48f7a84b3a6f262ab1ce"
      }
     },
     "fc99f43aa3d94bc099fa12e6af3fd0ab": {
      "model_module": "@jupyter-widgets/controls",
      "model_module_version": "1.5.0",
      "model_name": "DescriptionStyleModel",
      "state": {
       "_model_module": "@jupyter-widgets/controls",
       "_model_module_version": "1.5.0",
       "_model_name": "DescriptionStyleModel",
       "_view_count": null,
       "_view_module": "@jupyter-widgets/base",
       "_view_module_version": "1.2.0",
       "_view_name": "StyleView",
       "description_width": ""
      }
     }
    },
    "version_major": 2,
    "version_minor": 0
   }
  }
 },
 "nbformat": 4,
 "nbformat_minor": 5
}
